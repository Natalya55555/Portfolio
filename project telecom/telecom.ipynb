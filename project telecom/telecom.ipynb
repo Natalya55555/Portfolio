{
  "metadata": {
    "kernelspec": {
      "name": "python",
      "display_name": "Python (Pyodide)",
      "language": "python"
    },
    "language_info": {
      "codemirror_mode": {
        "name": "python",
        "version": 3
      },
      "file_extension": ".py",
      "mimetype": "text/x-python",
      "name": "python",
      "nbconvert_exporter": "python",
      "pygments_lexer": "ipython3",
      "version": "3.8"
    },
    "ExecuteTimeLog": [
      {
        "duration": 1675,
        "start_time": "2023-07-24T18:19:54.616Z"
      },
      {
        "duration": 457,
        "start_time": "2023-07-24T18:19:56.293Z"
      },
      {
        "duration": 12,
        "start_time": "2023-07-24T18:19:57.540Z"
      },
      {
        "duration": 14,
        "start_time": "2023-07-24T18:19:57.758Z"
      },
      {
        "duration": 4,
        "start_time": "2023-07-24T18:19:58.440Z"
      },
      {
        "duration": 11,
        "start_time": "2023-07-24T18:19:58.680Z"
      },
      {
        "duration": 8,
        "start_time": "2023-07-24T18:19:58.899Z"
      },
      {
        "duration": 138,
        "start_time": "2023-07-24T18:19:59.129Z"
      },
      {
        "duration": 14,
        "start_time": "2023-07-24T18:19:59.359Z"
      },
      {
        "duration": 149,
        "start_time": "2023-07-24T18:19:59.621Z"
      },
      {
        "duration": 145,
        "start_time": "2023-07-24T18:19:59.859Z"
      },
      {
        "duration": 14,
        "start_time": "2023-07-24T18:20:00.080Z"
      },
      {
        "duration": 253,
        "start_time": "2023-07-24T18:20:00.296Z"
      },
      {
        "duration": 14,
        "start_time": "2023-07-24T18:20:00.936Z"
      },
      {
        "duration": 10,
        "start_time": "2023-07-24T18:20:01.158Z"
      },
      {
        "duration": 5,
        "start_time": "2023-07-24T18:20:02.340Z"
      },
      {
        "duration": 144,
        "start_time": "2023-07-24T18:20:02.519Z"
      },
      {
        "duration": 148,
        "start_time": "2023-07-24T18:20:02.767Z"
      },
      {
        "duration": 131,
        "start_time": "2023-07-24T18:20:03.011Z"
      },
      {
        "duration": 106,
        "start_time": "2023-07-24T18:20:03.282Z"
      },
      {
        "duration": 94,
        "start_time": "2023-07-24T18:20:03.694Z"
      },
      {
        "duration": 11,
        "start_time": "2023-07-24T18:20:04.639Z"
      },
      {
        "duration": 14,
        "start_time": "2023-07-24T18:20:05.080Z"
      },
      {
        "duration": 5,
        "start_time": "2023-07-24T18:20:05.799Z"
      },
      {
        "duration": 23,
        "start_time": "2023-07-24T18:20:06.059Z"
      },
      {
        "duration": 7,
        "start_time": "2023-07-24T18:20:06.339Z"
      },
      {
        "duration": 97,
        "start_time": "2023-07-24T18:20:06.599Z"
      },
      {
        "duration": 96,
        "start_time": "2023-07-24T18:20:07.480Z"
      },
      {
        "duration": 92,
        "start_time": "2023-07-24T18:20:08.019Z"
      },
      {
        "duration": 90,
        "start_time": "2023-07-24T18:20:08.490Z"
      },
      {
        "duration": 96,
        "start_time": "2023-07-24T18:20:08.734Z"
      },
      {
        "duration": 117,
        "start_time": "2023-07-24T18:20:08.996Z"
      },
      {
        "duration": 96,
        "start_time": "2023-07-24T18:20:09.240Z"
      },
      {
        "duration": 9,
        "start_time": "2023-07-24T18:20:10.222Z"
      },
      {
        "duration": 6,
        "start_time": "2023-07-24T18:20:10.479Z"
      },
      {
        "duration": 4,
        "start_time": "2023-07-24T18:20:10.958Z"
      },
      {
        "duration": 10,
        "start_time": "2023-07-24T18:20:11.626Z"
      },
      {
        "duration": 6,
        "start_time": "2023-07-24T18:20:11.886Z"
      },
      {
        "duration": 192,
        "start_time": "2023-07-24T18:20:12.242Z"
      },
      {
        "duration": 3,
        "start_time": "2023-07-24T18:20:16.046Z"
      },
      {
        "duration": 6,
        "start_time": "2023-07-24T18:20:16.373Z"
      },
      {
        "duration": 5,
        "start_time": "2023-07-24T18:20:17.003Z"
      },
      {
        "duration": 5,
        "start_time": "2023-07-24T18:20:17.260Z"
      },
      {
        "duration": 12,
        "start_time": "2023-07-24T18:20:17.483Z"
      },
      {
        "duration": 8,
        "start_time": "2023-07-24T18:20:17.900Z"
      },
      {
        "duration": 5,
        "start_time": "2023-07-24T18:20:18.510Z"
      },
      {
        "duration": 14,
        "start_time": "2023-07-24T18:20:19.120Z"
      },
      {
        "duration": 5,
        "start_time": "2023-07-24T18:20:19.440Z"
      },
      {
        "duration": 5,
        "start_time": "2023-07-24T18:20:19.783Z"
      },
      {
        "duration": 5,
        "start_time": "2023-07-24T18:20:20.314Z"
      },
      {
        "duration": 4,
        "start_time": "2023-07-24T18:20:20.587Z"
      },
      {
        "duration": 6,
        "start_time": "2023-07-24T18:20:21.541Z"
      },
      {
        "duration": 7,
        "start_time": "2023-07-24T18:20:21.809Z"
      },
      {
        "duration": 7,
        "start_time": "2023-07-24T18:20:22.202Z"
      },
      {
        "duration": 15,
        "start_time": "2023-07-24T18:20:22.501Z"
      },
      {
        "duration": 14,
        "start_time": "2023-07-24T18:20:22.765Z"
      },
      {
        "duration": 16,
        "start_time": "2023-07-24T18:20:23.868Z"
      },
      {
        "duration": 12,
        "start_time": "2023-07-24T18:20:24.081Z"
      },
      {
        "duration": 13,
        "start_time": "2023-07-24T18:20:24.317Z"
      },
      {
        "duration": 18,
        "start_time": "2023-07-24T18:20:25.764Z"
      },
      {
        "duration": 11,
        "start_time": "2023-07-24T18:20:26.240Z"
      },
      {
        "duration": 11,
        "start_time": "2023-07-24T18:20:26.710Z"
      },
      {
        "duration": 14,
        "start_time": "2023-07-24T18:20:27.025Z"
      },
      {
        "duration": 7,
        "start_time": "2023-07-24T18:20:27.566Z"
      },
      {
        "duration": 365,
        "start_time": "2023-07-24T18:20:28.020Z"
      },
      {
        "duration": 4,
        "start_time": "2023-07-24T18:20:29.388Z"
      },
      {
        "duration": 6,
        "start_time": "2023-07-24T18:20:29.887Z"
      },
      {
        "duration": 4,
        "start_time": "2023-07-24T18:20:30.540Z"
      },
      {
        "duration": 5,
        "start_time": "2023-07-24T18:20:31.135Z"
      },
      {
        "duration": 104,
        "start_time": "2023-07-24T18:20:31.660Z"
      },
      {
        "duration": 193,
        "start_time": "2023-07-24T18:20:32.202Z"
      },
      {
        "duration": 215,
        "start_time": "2023-07-24T18:20:32.869Z"
      },
      {
        "duration": 4,
        "start_time": "2023-07-24T18:20:34.241Z"
      },
      {
        "duration": 7,
        "start_time": "2023-07-24T18:20:35.017Z"
      },
      {
        "duration": 3,
        "start_time": "2023-07-24T18:20:37.759Z"
      },
      {
        "duration": 4,
        "start_time": "2023-07-24T18:20:38.298Z"
      },
      {
        "duration": 19,
        "start_time": "2023-07-24T18:20:39.500Z"
      },
      {
        "duration": 47,
        "start_time": "2023-07-24T18:20:40.100Z"
      },
      {
        "duration": 20,
        "start_time": "2023-07-24T18:20:40.741Z"
      },
      {
        "duration": 22,
        "start_time": "2023-07-24T18:20:41.760Z"
      },
      {
        "duration": 51,
        "start_time": "2023-07-24T18:20:42.376Z"
      },
      {
        "duration": 16,
        "start_time": "2023-07-24T18:20:43.000Z"
      },
      {
        "duration": 14,
        "start_time": "2023-07-24T18:20:43.540Z"
      },
      {
        "duration": 570,
        "start_time": "2023-07-24T18:20:45.600Z"
      },
      {
        "duration": 1351,
        "start_time": "2023-07-24T18:21:31.859Z"
      },
      {
        "duration": 160954,
        "start_time": "2023-07-24T18:21:56.260Z"
      },
      {
        "duration": 6,
        "start_time": "2023-07-24T18:26:23.890Z"
      },
      {
        "duration": 2953,
        "start_time": "2023-07-24T18:26:31.890Z"
      },
      {
        "duration": 3,
        "start_time": "2023-07-24T18:26:39.143Z"
      },
      {
        "duration": 144,
        "start_time": "2023-07-24T18:26:46.677Z"
      },
      {
        "duration": 151,
        "start_time": "2023-07-24T18:26:54.420Z"
      },
      {
        "duration": 37,
        "start_time": "2023-07-24T18:26:56.135Z"
      },
      {
        "duration": 201,
        "start_time": "2023-07-24T18:26:57.411Z"
      },
      {
        "duration": 8,
        "start_time": "2023-07-24T18:27:17.857Z"
      },
      {
        "duration": 123,
        "start_time": "2023-07-24T18:28:23.709Z"
      },
      {
        "duration": 3,
        "start_time": "2023-07-24T18:29:16.713Z"
      },
      {
        "duration": 4,
        "start_time": "2023-07-24T18:29:59.413Z"
      }
    ],
    "toc": {
      "base_numbering": 1,
      "nav_menu": {},
      "number_sections": true,
      "sideBar": true,
      "skip_h1_title": true,
      "title_cell": "Table of Contents",
      "title_sidebar": "Contents",
      "toc_cell": false,
      "toc_position": {},
      "toc_section_display": true,
      "toc_window_display": false
    }
  },
  "nbformat_minor": 4,
  "nbformat": 4,
  "cells": [
    {
      "cell_type": "markdown",
      "source": "### **Проект. Прогнозирование ухода абонентов от оператора связи.**",
      "metadata": {}
    },
    {
      "cell_type": "markdown",
      "source": "### **Цель проекта.**                                 \nОператор связи хочет научиться прогнозировать отток клиентов. Если выяснится, что пользователь планирует уйти, ему будут предложены промокоды и специальные условия. Команда оператора собрала персональные данные о некоторых клиентах, информацию об их тарифах и договорах. Цель: обучение модели прогнозированию ухода клиента от оператора связи.",
      "metadata": {}
    },
    {
      "cell_type": "markdown",
      "source": "### **Описание данных.**\nОператор предоставляет два основных типа услуг: \n\n- 1.\tСтационарную телефонную связь. Возможно подключение телефонного аппарата к нескольким линиям одновременно.\n    <br>\n- 2.\tИнтернет. Подключение может быть двух типов: через телефонную линию (DSL, от англ. digital subscriber line, «цифровая абонентская линия») или оптоволоконный кабель (Fiber optic).\n    <br>\n  Также доступны такие услуги:\n    <br>\n•\tИнтернет-безопасность: антивирус (DeviceProtection) и блокировка небезопасных сайтов (OnlineSecurity);\n    <br>\n•\tВыделенная линия технической поддержки (TechSupport);\n    <br>\n•\tОблачное хранилище файлов для резервного копирования данных (OnlineBackup);\n    <br>\n•\tСтриминговое телевидение (StreamingTV) и каталог фильмов (StreamingMovies).\n    <br>\nЗа услуги клиенты могут платить каждый месяц или заключить договор на 1–2 года. Доступны различные способы расчёта и возможность получения электронного чека.",
      "metadata": {}
    },
    {
      "cell_type": "markdown",
      "source": "### **План работы.**\n1. Исследовательский анализ данных.\n2. Предобработка данных датасетов. Обучение модели задачи классификации. Проверка успешности модели.\n3. Подготовка данных к обучению.\n4. Обучение.\n5. Тестирование.\n6. Вывод.",
      "metadata": {}
    },
    {
      "cell_type": "markdown",
      "source": "### **Вывод**\nЛучшей моделью обчения стала модель CatBoostClassifier. Она показала высокий результат по метрике roc_auc = 0.92.r   Тестирование лучшей модели подтвердило успешность обучения, roc_auc = 0.<     По результатам предсказания матрица ошибок тестовой выборки показывает, что модель обучения CatBoostClassifier успешна в предсказании того, что клиент останется = (практически безошибочно) 0.95, при этом уровень предсказания ухода клиента менее успешен = 0.>\r\n    Результат обучения говорит о том, что модель нужно дообучать на большем количестве данных. Возможно нужны дополнительные признаки, которые характеризуют факт ухода клСамые важные признаки,    <br> влияющие на уход клиента: Period, MonthlyCharges и Type и InternetSЦель проекта выполнена датасет обучен прогнозировать факт ухода абонентов. Обозначены дальнейшие действия по улучшению модели.выполнены.",
      "metadata": {}
    },
    {
      "cell_type": "markdown",
      "source": "##### **1. Исследовательский анализ данных.**",
      "metadata": {}
    },
    {
      "cell_type": "code",
      "source": "import matplotlib.pyplot as plt\nimport numpy as np\nimport pandas as pd\nimport seaborn as sns\nimport time\nimport warnings\n\nfrom numpy.random import RandomState\nfrom tqdm import notebook\nfrom sklearn.utils import shuffle\nfrom sklearn.metrics import roc_auc_score\nfrom sklearn.metrics import precision_score\nfrom sklearn.model_selection import train_test_split\nfrom sklearn.model_selection import GridSearchCV \nfrom sklearn.metrics import roc_curve, auc\nfrom sklearn.ensemble import RandomForestClassifier\nfrom sklearn.linear_model import LogisticRegression\nfrom catboost import CatBoost, CatBoostClassifier, Pool\nimport re\nfrom sklearn.metrics import plot_confusion_matrix\nfrom matplotlib import cm\nfrom sklearn.preprocessing import OneHotEncoder\nfrom sklearn.preprocessing import OrdinalEncoder\nfrom sklearn.preprocessing import LabelEncoder\nfrom sklearn.preprocessing import StandardScaler\nfrom sklearn.model_selection import cross_val_score\nfrom sklearn.model_selection import StratifiedKFold\nfrom sklearn.model_selection import cross_val_predict\nwarnings.filterwarnings('ignore')\n\nRANDOM_STATE = 180723",
      "metadata": {
        "trusted": true
      },
      "outputs": [],
      "execution_count": null
    },
    {
      "cell_type": "code",
      "source": "contract_data = pd.read_csv('/d/contract.csv',\n                            index_col=['customerID'],parse_dates=['BeginDate', 'EndDate'])\n\npersonal_data = pd.read_csv('/d/personal.csv', index_col='customerID')\n\ninternet_data = pd.read_csv('/d/internet.csv', index_col='customerID')\n\nphone_data = pd.read_csv('/d/phone.csv', index_col='customerID')",
      "metadata": {},
      "outputs": [],
      "execution_count": 2
    },
    {
      "cell_type": "code",
      "source": "contract_data.info()",
      "metadata": {},
      "outputs": [
        {
          "name": "stdout",
          "output_type": "stream",
          "text": [
            "<class 'pandas.core.frame.DataFrame'>\n",
            "Index: 7043 entries, 7590-VHVEG to 3186-AJIEK\n",
            "Data columns (total 7 columns):\n",
            " #   Column            Non-Null Count  Dtype         \n",
            "---  ------            --------------  -----         \n",
            " 0   BeginDate         7043 non-null   datetime64[ns]\n",
            " 1   EndDate           7043 non-null   object        \n",
            " 2   Type              7043 non-null   object        \n",
            " 3   PaperlessBilling  7043 non-null   object        \n",
            " 4   PaymentMethod     7043 non-null   object        \n",
            " 5   MonthlyCharges    7043 non-null   float64       \n",
            " 6   TotalCharges      7043 non-null   object        \n",
            "dtypes: datetime64[ns](1), float64(1), object(5)\n",
            "memory usage: 440.2+ KB\n"
          ]
        }
      ],
      "execution_count": 3
    },
    {
      "cell_type": "code",
      "source": "contract_data.head(10)",
      "metadata": {},
      "outputs": [
        {
          "data": {
            "text/html": [
              "<div>\n",
              "<style scoped>\n",
              "    .dataframe tbody tr th:only-of-type {\n",
              "        vertical-align: middle;\n",
              "    }\n",
              "\n",
              "    .dataframe tbody tr th {\n",
              "        vertical-align: top;\n",
              "    }\n",
              "\n",
              "    .dataframe thead th {\n",
              "        text-align: right;\n",
              "    }\n",
              "</style>\n",
              "<table border=\"1\" class=\"dataframe\">\n",
              "  <thead>\n",
              "    <tr style=\"text-align: right;\">\n",
              "      <th></th>\n",
              "      <th>BeginDate</th>\n",
              "      <th>EndDate</th>\n",
              "      <th>Type</th>\n",
              "      <th>PaperlessBilling</th>\n",
              "      <th>PaymentMethod</th>\n",
              "      <th>MonthlyCharges</th>\n",
              "      <th>TotalCharges</th>\n",
              "    </tr>\n",
              "    <tr>\n",
              "      <th>customerID</th>\n",
              "      <th></th>\n",
              "      <th></th>\n",
              "      <th></th>\n",
              "      <th></th>\n",
              "      <th></th>\n",
              "      <th></th>\n",
              "      <th></th>\n",
              "    </tr>\n",
              "  </thead>\n",
              "  <tbody>\n",
              "    <tr>\n",
              "      <th>7590-VHVEG</th>\n",
              "      <td>2020-01-01</td>\n",
              "      <td>No</td>\n",
              "      <td>Month-to-month</td>\n",
              "      <td>Yes</td>\n",
              "      <td>Electronic check</td>\n",
              "      <td>29.85</td>\n",
              "      <td>29.85</td>\n",
              "    </tr>\n",
              "    <tr>\n",
              "      <th>5575-GNVDE</th>\n",
              "      <td>2017-04-01</td>\n",
              "      <td>No</td>\n",
              "      <td>One year</td>\n",
              "      <td>No</td>\n",
              "      <td>Mailed check</td>\n",
              "      <td>56.95</td>\n",
              "      <td>1889.5</td>\n",
              "    </tr>\n",
              "    <tr>\n",
              "      <th>3668-QPYBK</th>\n",
              "      <td>2019-10-01</td>\n",
              "      <td>2019-12-01 00:00:00</td>\n",
              "      <td>Month-to-month</td>\n",
              "      <td>Yes</td>\n",
              "      <td>Mailed check</td>\n",
              "      <td>53.85</td>\n",
              "      <td>108.15</td>\n",
              "    </tr>\n",
              "    <tr>\n",
              "      <th>7795-CFOCW</th>\n",
              "      <td>2016-05-01</td>\n",
              "      <td>No</td>\n",
              "      <td>One year</td>\n",
              "      <td>No</td>\n",
              "      <td>Bank transfer (automatic)</td>\n",
              "      <td>42.30</td>\n",
              "      <td>1840.75</td>\n",
              "    </tr>\n",
              "    <tr>\n",
              "      <th>9237-HQITU</th>\n",
              "      <td>2019-09-01</td>\n",
              "      <td>2019-11-01 00:00:00</td>\n",
              "      <td>Month-to-month</td>\n",
              "      <td>Yes</td>\n",
              "      <td>Electronic check</td>\n",
              "      <td>70.70</td>\n",
              "      <td>151.65</td>\n",
              "    </tr>\n",
              "    <tr>\n",
              "      <th>9305-CDSKC</th>\n",
              "      <td>2019-03-01</td>\n",
              "      <td>2019-11-01 00:00:00</td>\n",
              "      <td>Month-to-month</td>\n",
              "      <td>Yes</td>\n",
              "      <td>Electronic check</td>\n",
              "      <td>99.65</td>\n",
              "      <td>820.5</td>\n",
              "    </tr>\n",
              "    <tr>\n",
              "      <th>1452-KIOVK</th>\n",
              "      <td>2018-04-01</td>\n",
              "      <td>No</td>\n",
              "      <td>Month-to-month</td>\n",
              "      <td>Yes</td>\n",
              "      <td>Credit card (automatic)</td>\n",
              "      <td>89.10</td>\n",
              "      <td>1949.4</td>\n",
              "    </tr>\n",
              "    <tr>\n",
              "      <th>6713-OKOMC</th>\n",
              "      <td>2019-04-01</td>\n",
              "      <td>No</td>\n",
              "      <td>Month-to-month</td>\n",
              "      <td>No</td>\n",
              "      <td>Mailed check</td>\n",
              "      <td>29.75</td>\n",
              "      <td>301.9</td>\n",
              "    </tr>\n",
              "    <tr>\n",
              "      <th>7892-POOKP</th>\n",
              "      <td>2017-07-01</td>\n",
              "      <td>2019-11-01 00:00:00</td>\n",
              "      <td>Month-to-month</td>\n",
              "      <td>Yes</td>\n",
              "      <td>Electronic check</td>\n",
              "      <td>104.80</td>\n",
              "      <td>3046.05</td>\n",
              "    </tr>\n",
              "    <tr>\n",
              "      <th>6388-TABGU</th>\n",
              "      <td>2014-12-01</td>\n",
              "      <td>No</td>\n",
              "      <td>One year</td>\n",
              "      <td>No</td>\n",
              "      <td>Bank transfer (automatic)</td>\n",
              "      <td>56.15</td>\n",
              "      <td>3487.95</td>\n",
              "    </tr>\n",
              "  </tbody>\n",
              "</table>\n",
              "</div>"
            ],
            "text/plain": [
              "            BeginDate              EndDate            Type PaperlessBilling  \\\n",
              "customerID                                                                    \n",
              "7590-VHVEG 2020-01-01                   No  Month-to-month              Yes   \n",
              "5575-GNVDE 2017-04-01                   No        One year               No   \n",
              "3668-QPYBK 2019-10-01  2019-12-01 00:00:00  Month-to-month              Yes   \n",
              "7795-CFOCW 2016-05-01                   No        One year               No   \n",
              "9237-HQITU 2019-09-01  2019-11-01 00:00:00  Month-to-month              Yes   \n",
              "9305-CDSKC 2019-03-01  2019-11-01 00:00:00  Month-to-month              Yes   \n",
              "1452-KIOVK 2018-04-01                   No  Month-to-month              Yes   \n",
              "6713-OKOMC 2019-04-01                   No  Month-to-month               No   \n",
              "7892-POOKP 2017-07-01  2019-11-01 00:00:00  Month-to-month              Yes   \n",
              "6388-TABGU 2014-12-01                   No        One year               No   \n",
              "\n",
              "                        PaymentMethod  MonthlyCharges TotalCharges  \n",
              "customerID                                                          \n",
              "7590-VHVEG           Electronic check           29.85        29.85  \n",
              "5575-GNVDE               Mailed check           56.95       1889.5  \n",
              "3668-QPYBK               Mailed check           53.85       108.15  \n",
              "7795-CFOCW  Bank transfer (automatic)           42.30      1840.75  \n",
              "9237-HQITU           Electronic check           70.70       151.65  \n",
              "9305-CDSKC           Electronic check           99.65        820.5  \n",
              "1452-KIOVK    Credit card (automatic)           89.10       1949.4  \n",
              "6713-OKOMC               Mailed check           29.75        301.9  \n",
              "7892-POOKP           Electronic check          104.80      3046.05  \n",
              "6388-TABGU  Bank transfer (automatic)           56.15      3487.95  "
            ]
          },
          "execution_count": 4,
          "metadata": {},
          "output_type": "execute_result"
        }
      ],
      "execution_count": 4
    },
    {
      "cell_type": "code",
      "source": "contract_data.shape",
      "metadata": {},
      "outputs": [
        {
          "data": {
            "text/plain": [
              "(7043, 7)"
            ]
          },
          "execution_count": 5,
          "metadata": {},
          "output_type": "execute_result"
        }
      ],
      "execution_count": 5
    },
    {
      "cell_type": "code",
      "source": "contract_data.describe()",
      "metadata": {},
      "outputs": [
        {
          "data": {
            "text/html": [
              "<div>\n",
              "<style scoped>\n",
              "    .dataframe tbody tr th:only-of-type {\n",
              "        vertical-align: middle;\n",
              "    }\n",
              "\n",
              "    .dataframe tbody tr th {\n",
              "        vertical-align: top;\n",
              "    }\n",
              "\n",
              "    .dataframe thead th {\n",
              "        text-align: right;\n",
              "    }\n",
              "</style>\n",
              "<table border=\"1\" class=\"dataframe\">\n",
              "  <thead>\n",
              "    <tr style=\"text-align: right;\">\n",
              "      <th></th>\n",
              "      <th>MonthlyCharges</th>\n",
              "    </tr>\n",
              "  </thead>\n",
              "  <tbody>\n",
              "    <tr>\n",
              "      <th>count</th>\n",
              "      <td>7043.000000</td>\n",
              "    </tr>\n",
              "    <tr>\n",
              "      <th>mean</th>\n",
              "      <td>64.761692</td>\n",
              "    </tr>\n",
              "    <tr>\n",
              "      <th>std</th>\n",
              "      <td>30.090047</td>\n",
              "    </tr>\n",
              "    <tr>\n",
              "      <th>min</th>\n",
              "      <td>18.250000</td>\n",
              "    </tr>\n",
              "    <tr>\n",
              "      <th>25%</th>\n",
              "      <td>35.500000</td>\n",
              "    </tr>\n",
              "    <tr>\n",
              "      <th>50%</th>\n",
              "      <td>70.350000</td>\n",
              "    </tr>\n",
              "    <tr>\n",
              "      <th>75%</th>\n",
              "      <td>89.850000</td>\n",
              "    </tr>\n",
              "    <tr>\n",
              "      <th>max</th>\n",
              "      <td>118.750000</td>\n",
              "    </tr>\n",
              "  </tbody>\n",
              "</table>\n",
              "</div>"
            ],
            "text/plain": [
              "       MonthlyCharges\n",
              "count     7043.000000\n",
              "mean        64.761692\n",
              "std         30.090047\n",
              "min         18.250000\n",
              "25%         35.500000\n",
              "50%         70.350000\n",
              "75%         89.850000\n",
              "max        118.750000"
            ]
          },
          "execution_count": 6,
          "metadata": {},
          "output_type": "execute_result"
        }
      ],
      "execution_count": 6
    },
    {
      "cell_type": "code",
      "source": "contract_data.isnull().sum()",
      "metadata": {},
      "outputs": [
        {
          "data": {
            "text/plain": [
              "BeginDate           0\n",
              "EndDate             0\n",
              "Type                0\n",
              "PaperlessBilling    0\n",
              "PaymentMethod       0\n",
              "MonthlyCharges      0\n",
              "TotalCharges        0\n",
              "dtype: int64"
            ]
          },
          "execution_count": 7,
          "metadata": {},
          "output_type": "execute_result"
        }
      ],
      "execution_count": 7
    },
    {
      "cell_type": "code",
      "source": "contract_data['Type'].hist(figsize=(10, 5))\nplt.title('Тип оплаты')\nplt.xlabel('Оплата раз в год-два или ежемесячно')\nplt.ylabel('Количество пользователей');",
      "metadata": {},
      "outputs": [
        {
          "data": {
            "image/png": "[encoded data removed]",
            "text/plain": [
              "<Figure size 720x360 with 1 Axes>"
            ]
          },
          "metadata": {
            "needs_background": "light"
          },
          "output_type": "display_data"
        }
      ],
      "execution_count": 8
    },
    {
      "cell_type": "code",
      "source": "contract_data.pivot_table(index='Type', values='MonthlyCharges')",
      "metadata": {},
      "outputs": [
        {
          "data": {
            "text/html": [
              "<div>\n",
              "<style scoped>\n",
              "    .dataframe tbody tr th:only-of-type {\n",
              "        vertical-align: middle;\n",
              "    }\n",
              "\n",
              "    .dataframe tbody tr th {\n",
              "        vertical-align: top;\n",
              "    }\n",
              "\n",
              "    .dataframe thead th {\n",
              "        text-align: right;\n",
              "    }\n",
              "</style>\n",
              "<table border=\"1\" class=\"dataframe\">\n",
              "  <thead>\n",
              "    <tr style=\"text-align: right;\">\n",
              "      <th></th>\n",
              "      <th>MonthlyCharges</th>\n",
              "    </tr>\n",
              "    <tr>\n",
              "      <th>Type</th>\n",
              "      <th></th>\n",
              "    </tr>\n",
              "  </thead>\n",
              "  <tbody>\n",
              "    <tr>\n",
              "      <th>Month-to-month</th>\n",
              "      <td>66.398490</td>\n",
              "    </tr>\n",
              "    <tr>\n",
              "      <th>One year</th>\n",
              "      <td>65.048608</td>\n",
              "    </tr>\n",
              "    <tr>\n",
              "      <th>Two year</th>\n",
              "      <td>60.770413</td>\n",
              "    </tr>\n",
              "  </tbody>\n",
              "</table>\n",
              "</div>"
            ],
            "text/plain": [
              "                MonthlyCharges\n",
              "Type                          \n",
              "Month-to-month       66.398490\n",
              "One year             65.048608\n",
              "Two year             60.770413"
            ]
          },
          "execution_count": 9,
          "metadata": {},
          "output_type": "execute_result"
        }
      ],
      "execution_count": 9
    },
    {
      "cell_type": "code",
      "source": "contract_data['PaperlessBilling'].hist(figsize=(10, 5))\nplt.title('Наличие электронного расчётного листа')\nplt.xlabel('электронный расчётный лист')\nplt.ylabel('Количество пользователей');",
      "metadata": {},
      "outputs": [
        {
          "data": {
            "image/png": "[encoded data removed]",
            "text/plain": [
              "<Figure size 720x360 with 1 Axes>"
            ]
          },
          "metadata": {
            "needs_background": "light"
          },
          "output_type": "display_data"
        }
      ],
      "execution_count": 10
    },
    {
      "cell_type": "code",
      "source": "contract_data['PaymentMethod'].hist(figsize=(10, 5))\nplt.title('Метод оплаты')\nplt.xlabel('Метод оплаты')\nplt.ylabel('Количество пользователей');",
      "metadata": {},
      "outputs": [
        {
          "data": {
            "image/png": "[encoded data removed]",
            "text/plain": [
              "<Figure size 720x360 with 1 Axes>"
            ]
          },
          "metadata": {
            "needs_background": "light"
          },
          "output_type": "display_data"
        }
      ],
      "execution_count": 11
    },
    {
      "cell_type": "code",
      "source": "contract_data.pivot_table(index='PaymentMethod', values='MonthlyCharges')",
      "metadata": {},
      "outputs": [
        {
          "data": {
            "text/html": [
              "<div>\n",
              "<style scoped>\n",
              "    .dataframe tbody tr th:only-of-type {\n",
              "        vertical-align: middle;\n",
              "    }\n",
              "\n",
              "    .dataframe tbody tr th {\n",
              "        vertical-align: top;\n",
              "    }\n",
              "\n",
              "    .dataframe thead th {\n",
              "        text-align: right;\n",
              "    }\n",
              "</style>\n",
              "<table border=\"1\" class=\"dataframe\">\n",
              "  <thead>\n",
              "    <tr style=\"text-align: right;\">\n",
              "      <th></th>\n",
              "      <th>MonthlyCharges</th>\n",
              "    </tr>\n",
              "    <tr>\n",
              "      <th>PaymentMethod</th>\n",
              "      <th></th>\n",
              "    </tr>\n",
              "  </thead>\n",
              "  <tbody>\n",
              "    <tr>\n",
              "      <th>Bank transfer (automatic)</th>\n",
              "      <td>67.192649</td>\n",
              "    </tr>\n",
              "    <tr>\n",
              "      <th>Credit card (automatic)</th>\n",
              "      <td>66.512385</td>\n",
              "    </tr>\n",
              "    <tr>\n",
              "      <th>Electronic check</th>\n",
              "      <td>76.255814</td>\n",
              "    </tr>\n",
              "    <tr>\n",
              "      <th>Mailed check</th>\n",
              "      <td>43.917060</td>\n",
              "    </tr>\n",
              "  </tbody>\n",
              "</table>\n",
              "</div>"
            ],
            "text/plain": [
              "                           MonthlyCharges\n",
              "PaymentMethod                            \n",
              "Bank transfer (automatic)       67.192649\n",
              "Credit card (automatic)         66.512385\n",
              "Electronic check                76.255814\n",
              "Mailed check                    43.917060"
            ]
          },
          "execution_count": 12,
          "metadata": {},
          "output_type": "execute_result"
        }
      ],
      "execution_count": 12
    },
    {
      "cell_type": "code",
      "source": "contract_data['MonthlyCharges'].hist(bins=50, figsize=(10, 5))\nplt.title('Расход в месяц')\nplt.xlabel('Сумма расходов')\nplt.ylabel('Количество пользователей');",
      "metadata": {},
      "outputs": [
        {
          "data": {
            "image/png": "[encoded data removed]",
            "text/plain": [
              "<Figure size 720x360 with 1 Axes>"
            ]
          },
          "metadata": {
            "needs_background": "light"
          },
          "output_type": "display_data"
        }
      ],
      "execution_count": 13
    },
    {
      "cell_type": "code",
      "source": "personal_data.info()",
      "metadata": {},
      "outputs": [
        {
          "name": "stdout",
          "output_type": "stream",
          "text": [
            "<class 'pandas.core.frame.DataFrame'>\n",
            "Index: 7043 entries, 7590-VHVEG to 3186-AJIEK\n",
            "Data columns (total 4 columns):\n",
            " #   Column         Non-Null Count  Dtype \n",
            "---  ------         --------------  ----- \n",
            " 0   gender         7043 non-null   object\n",
            " 1   SeniorCitizen  7043 non-null   int64 \n",
            " 2   Partner        7043 non-null   object\n",
            " 3   Dependents     7043 non-null   object\n",
            "dtypes: int64(1), object(3)\n",
            "memory usage: 275.1+ KB\n"
          ]
        }
      ],
      "execution_count": 14
    },
    {
      "cell_type": "code",
      "source": "personal_data.head(10)",
      "metadata": {},
      "outputs": [
        {
          "data": {
            "text/html": [
              "<div>\n",
              "<style scoped>\n",
              "    .dataframe tbody tr th:only-of-type {\n",
              "        vertical-align: middle;\n",
              "    }\n",
              "\n",
              "    .dataframe tbody tr th {\n",
              "        vertical-align: top;\n",
              "    }\n",
              "\n",
              "    .dataframe thead th {\n",
              "        text-align: right;\n",
              "    }\n",
              "</style>\n",
              "<table border=\"1\" class=\"dataframe\">\n",
              "  <thead>\n",
              "    <tr style=\"text-align: right;\">\n",
              "      <th></th>\n",
              "      <th>gender</th>\n",
              "      <th>SeniorCitizen</th>\n",
              "      <th>Partner</th>\n",
              "      <th>Dependents</th>\n",
              "    </tr>\n",
              "    <tr>\n",
              "      <th>customerID</th>\n",
              "      <th></th>\n",
              "      <th></th>\n",
              "      <th></th>\n",
              "      <th></th>\n",
              "    </tr>\n",
              "  </thead>\n",
              "  <tbody>\n",
              "    <tr>\n",
              "      <th>7590-VHVEG</th>\n",
              "      <td>Female</td>\n",
              "      <td>0</td>\n",
              "      <td>Yes</td>\n",
              "      <td>No</td>\n",
              "    </tr>\n",
              "    <tr>\n",
              "      <th>5575-GNVDE</th>\n",
              "      <td>Male</td>\n",
              "      <td>0</td>\n",
              "      <td>No</td>\n",
              "      <td>No</td>\n",
              "    </tr>\n",
              "    <tr>\n",
              "      <th>3668-QPYBK</th>\n",
              "      <td>Male</td>\n",
              "      <td>0</td>\n",
              "      <td>No</td>\n",
              "      <td>No</td>\n",
              "    </tr>\n",
              "    <tr>\n",
              "      <th>7795-CFOCW</th>\n",
              "      <td>Male</td>\n",
              "      <td>0</td>\n",
              "      <td>No</td>\n",
              "      <td>No</td>\n",
              "    </tr>\n",
              "    <tr>\n",
              "      <th>9237-HQITU</th>\n",
              "      <td>Female</td>\n",
              "      <td>0</td>\n",
              "      <td>No</td>\n",
              "      <td>No</td>\n",
              "    </tr>\n",
              "    <tr>\n",
              "      <th>9305-CDSKC</th>\n",
              "      <td>Female</td>\n",
              "      <td>0</td>\n",
              "      <td>No</td>\n",
              "      <td>No</td>\n",
              "    </tr>\n",
              "    <tr>\n",
              "      <th>1452-KIOVK</th>\n",
              "      <td>Male</td>\n",
              "      <td>0</td>\n",
              "      <td>No</td>\n",
              "      <td>Yes</td>\n",
              "    </tr>\n",
              "    <tr>\n",
              "      <th>6713-OKOMC</th>\n",
              "      <td>Female</td>\n",
              "      <td>0</td>\n",
              "      <td>No</td>\n",
              "      <td>No</td>\n",
              "    </tr>\n",
              "    <tr>\n",
              "      <th>7892-POOKP</th>\n",
              "      <td>Female</td>\n",
              "      <td>0</td>\n",
              "      <td>Yes</td>\n",
              "      <td>No</td>\n",
              "    </tr>\n",
              "    <tr>\n",
              "      <th>6388-TABGU</th>\n",
              "      <td>Male</td>\n",
              "      <td>0</td>\n",
              "      <td>No</td>\n",
              "      <td>Yes</td>\n",
              "    </tr>\n",
              "  </tbody>\n",
              "</table>\n",
              "</div>"
            ],
            "text/plain": [
              "            gender  SeniorCitizen Partner Dependents\n",
              "customerID                                          \n",
              "7590-VHVEG  Female              0     Yes         No\n",
              "5575-GNVDE    Male              0      No         No\n",
              "3668-QPYBK    Male              0      No         No\n",
              "7795-CFOCW    Male              0      No         No\n",
              "9237-HQITU  Female              0      No         No\n",
              "9305-CDSKC  Female              0      No         No\n",
              "1452-KIOVK    Male              0      No        Yes\n",
              "6713-OKOMC  Female              0      No         No\n",
              "7892-POOKP  Female              0     Yes         No\n",
              "6388-TABGU    Male              0      No        Yes"
            ]
          },
          "execution_count": 15,
          "metadata": {},
          "output_type": "execute_result"
        }
      ],
      "execution_count": 15
    },
    {
      "cell_type": "code",
      "source": "personal_data.shape",
      "metadata": {},
      "outputs": [
        {
          "data": {
            "text/plain": [
              "(7043, 4)"
            ]
          },
          "execution_count": 16,
          "metadata": {},
          "output_type": "execute_result"
        }
      ],
      "execution_count": 16
    },
    {
      "cell_type": "code",
      "source": "personal_data.isnull().sum()",
      "metadata": {},
      "outputs": [
        {
          "data": {
            "text/plain": [
              "gender           0\n",
              "SeniorCitizen    0\n",
              "Partner          0\n",
              "Dependents       0\n",
              "dtype: int64"
            ]
          },
          "execution_count": 17,
          "metadata": {},
          "output_type": "execute_result"
        }
      ],
      "execution_count": 17
    },
    {
      "cell_type": "code",
      "source": "personal_data['gender'].hist()\nplt.title('Пол пользователя')\nplt.xlabel('Пол')\nplt.ylabel('Количество пользователей');",
      "metadata": {},
      "outputs": [
        {
          "data": {
            "image/png": "[encoded data removed]",
            "text/plain": [
              "<Figure size 432x288 with 1 Axes>"
            ]
          },
          "metadata": {
            "needs_background": "light"
          },
          "output_type": "display_data"
        }
      ],
      "execution_count": 18
    },
    {
      "cell_type": "code",
      "source": "personal_data['SeniorCitizen'].hist()\nplt.title('Статус пенсионера')\nplt.ylabel('Количество пользователей');",
      "metadata": {},
      "outputs": [
        {
          "data": {
            "image/png": "[encoded data removed]",
            "text/plain": [
              "<Figure size 432x288 with 1 Axes>"
            ]
          },
          "metadata": {
            "needs_background": "light"
          },
          "output_type": "display_data"
        }
      ],
      "execution_count": 19
    },
    {
      "cell_type": "code",
      "source": "personal_data['Partner'].hist()\nplt.title('Наличие партнера')\nplt.ylabel('Количество пользователей');",
      "metadata": {},
      "outputs": [
        {
          "data": {
            "image/png": "[encoded data removed]",
            "text/plain": [
              "<Figure size 432x288 with 1 Axes>"
            ]
          },
          "metadata": {
            "needs_background": "light"
          },
          "output_type": "display_data"
        }
      ],
      "execution_count": 20
    },
    {
      "cell_type": "code",
      "source": "personal_data['Dependents'].hist()\nplt.title('Наличие детей')\nplt.ylabel('Количество пользователей');",
      "metadata": {},
      "outputs": [
        {
          "data": {
            "image/png": "[encoded data removed]",
            "text/plain": [
              "<Figure size 432x288 with 1 Axes>"
            ]
          },
          "metadata": {
            "needs_background": "light"
          },
          "output_type": "display_data"
        }
      ],
      "execution_count": 21
    },
    {
      "cell_type": "code",
      "source": "internet_data.info()",
      "metadata": {},
      "outputs": [
        {
          "name": "stdout",
          "output_type": "stream",
          "text": [
            "<class 'pandas.core.frame.DataFrame'>\n",
            "Index: 5517 entries, 7590-VHVEG to 3186-AJIEK\n",
            "Data columns (total 7 columns):\n",
            " #   Column            Non-Null Count  Dtype \n",
            "---  ------            --------------  ----- \n",
            " 0   InternetService   5517 non-null   object\n",
            " 1   OnlineSecurity    5517 non-null   object\n",
            " 2   OnlineBackup      5517 non-null   object\n",
            " 3   DeviceProtection  5517 non-null   object\n",
            " 4   TechSupport       5517 non-null   object\n",
            " 5   StreamingTV       5517 non-null   object\n",
            " 6   StreamingMovies   5517 non-null   object\n",
            "dtypes: object(7)\n",
            "memory usage: 344.8+ KB\n"
          ]
        }
      ],
      "execution_count": 22
    },
    {
      "cell_type": "code",
      "source": "internet_data.head(10)",
      "metadata": {},
      "outputs": [
        {
          "data": {
            "text/html": [
              "<div>\n",
              "<style scoped>\n",
              "    .dataframe tbody tr th:only-of-type {\n",
              "        vertical-align: middle;\n",
              "    }\n",
              "\n",
              "    .dataframe tbody tr th {\n",
              "        vertical-align: top;\n",
              "    }\n",
              "\n",
              "    .dataframe thead th {\n",
              "        text-align: right;\n",
              "    }\n",
              "</style>\n",
              "<table border=\"1\" class=\"dataframe\">\n",
              "  <thead>\n",
              "    <tr style=\"text-align: right;\">\n",
              "      <th></th>\n",
              "      <th>InternetService</th>\n",
              "      <th>OnlineSecurity</th>\n",
              "      <th>OnlineBackup</th>\n",
              "      <th>DeviceProtection</th>\n",
              "      <th>TechSupport</th>\n",
              "      <th>StreamingTV</th>\n",
              "      <th>StreamingMovies</th>\n",
              "    </tr>\n",
              "    <tr>\n",
              "      <th>customerID</th>\n",
              "      <th></th>\n",
              "      <th></th>\n",
              "      <th></th>\n",
              "      <th></th>\n",
              "      <th></th>\n",
              "      <th></th>\n",
              "      <th></th>\n",
              "    </tr>\n",
              "  </thead>\n",
              "  <tbody>\n",
              "    <tr>\n",
              "      <th>7590-VHVEG</th>\n",
              "      <td>DSL</td>\n",
              "      <td>No</td>\n",
              "      <td>Yes</td>\n",
              "      <td>No</td>\n",
              "      <td>No</td>\n",
              "      <td>No</td>\n",
              "      <td>No</td>\n",
              "    </tr>\n",
              "    <tr>\n",
              "      <th>5575-GNVDE</th>\n",
              "      <td>DSL</td>\n",
              "      <td>Yes</td>\n",
              "      <td>No</td>\n",
              "      <td>Yes</td>\n",
              "      <td>No</td>\n",
              "      <td>No</td>\n",
              "      <td>No</td>\n",
              "    </tr>\n",
              "    <tr>\n",
              "      <th>3668-QPYBK</th>\n",
              "      <td>DSL</td>\n",
              "      <td>Yes</td>\n",
              "      <td>Yes</td>\n",
              "      <td>No</td>\n",
              "      <td>No</td>\n",
              "      <td>No</td>\n",
              "      <td>No</td>\n",
              "    </tr>\n",
              "    <tr>\n",
              "      <th>7795-CFOCW</th>\n",
              "      <td>DSL</td>\n",
              "      <td>Yes</td>\n",
              "      <td>No</td>\n",
              "      <td>Yes</td>\n",
              "      <td>Yes</td>\n",
              "      <td>No</td>\n",
              "      <td>No</td>\n",
              "    </tr>\n",
              "    <tr>\n",
              "      <th>9237-HQITU</th>\n",
              "      <td>Fiber optic</td>\n",
              "      <td>No</td>\n",
              "      <td>No</td>\n",
              "      <td>No</td>\n",
              "      <td>No</td>\n",
              "      <td>No</td>\n",
              "      <td>No</td>\n",
              "    </tr>\n",
              "    <tr>\n",
              "      <th>9305-CDSKC</th>\n",
              "      <td>Fiber optic</td>\n",
              "      <td>No</td>\n",
              "      <td>No</td>\n",
              "      <td>Yes</td>\n",
              "      <td>No</td>\n",
              "      <td>Yes</td>\n",
              "      <td>Yes</td>\n",
              "    </tr>\n",
              "    <tr>\n",
              "      <th>1452-KIOVK</th>\n",
              "      <td>Fiber optic</td>\n",
              "      <td>No</td>\n",
              "      <td>Yes</td>\n",
              "      <td>No</td>\n",
              "      <td>No</td>\n",
              "      <td>Yes</td>\n",
              "      <td>No</td>\n",
              "    </tr>\n",
              "    <tr>\n",
              "      <th>6713-OKOMC</th>\n",
              "      <td>DSL</td>\n",
              "      <td>Yes</td>\n",
              "      <td>No</td>\n",
              "      <td>No</td>\n",
              "      <td>No</td>\n",
              "      <td>No</td>\n",
              "      <td>No</td>\n",
              "    </tr>\n",
              "    <tr>\n",
              "      <th>7892-POOKP</th>\n",
              "      <td>Fiber optic</td>\n",
              "      <td>No</td>\n",
              "      <td>No</td>\n",
              "      <td>Yes</td>\n",
              "      <td>Yes</td>\n",
              "      <td>Yes</td>\n",
              "      <td>Yes</td>\n",
              "    </tr>\n",
              "    <tr>\n",
              "      <th>6388-TABGU</th>\n",
              "      <td>DSL</td>\n",
              "      <td>Yes</td>\n",
              "      <td>Yes</td>\n",
              "      <td>No</td>\n",
              "      <td>No</td>\n",
              "      <td>No</td>\n",
              "      <td>No</td>\n",
              "    </tr>\n",
              "  </tbody>\n",
              "</table>\n",
              "</div>"
            ],
            "text/plain": [
              "           InternetService OnlineSecurity OnlineBackup DeviceProtection  \\\n",
              "customerID                                                                \n",
              "7590-VHVEG             DSL             No          Yes               No   \n",
              "5575-GNVDE             DSL            Yes           No              Yes   \n",
              "3668-QPYBK             DSL            Yes          Yes               No   \n",
              "7795-CFOCW             DSL            Yes           No              Yes   \n",
              "9237-HQITU     Fiber optic             No           No               No   \n",
              "9305-CDSKC     Fiber optic             No           No              Yes   \n",
              "1452-KIOVK     Fiber optic             No          Yes               No   \n",
              "6713-OKOMC             DSL            Yes           No               No   \n",
              "7892-POOKP     Fiber optic             No           No              Yes   \n",
              "6388-TABGU             DSL            Yes          Yes               No   \n",
              "\n",
              "           TechSupport StreamingTV StreamingMovies  \n",
              "customerID                                          \n",
              "7590-VHVEG          No          No              No  \n",
              "5575-GNVDE          No          No              No  \n",
              "3668-QPYBK          No          No              No  \n",
              "7795-CFOCW         Yes          No              No  \n",
              "9237-HQITU          No          No              No  \n",
              "9305-CDSKC          No         Yes             Yes  \n",
              "1452-KIOVK          No         Yes              No  \n",
              "6713-OKOMC          No          No              No  \n",
              "7892-POOKP         Yes         Yes             Yes  \n",
              "6388-TABGU          No          No              No  "
            ]
          },
          "execution_count": 23,
          "metadata": {},
          "output_type": "execute_result"
        }
      ],
      "execution_count": 23
    },
    {
      "cell_type": "code",
      "source": "internet_data.shape",
      "metadata": {},
      "outputs": [
        {
          "data": {
            "text/plain": [
              "(5517, 7)"
            ]
          },
          "execution_count": 24,
          "metadata": {},
          "output_type": "execute_result"
        }
      ],
      "execution_count": 24
    },
    {
      "cell_type": "code",
      "source": "internet_data.describe()",
      "metadata": {},
      "outputs": [
        {
          "data": {
            "text/html": [
              "<div>\n",
              "<style scoped>\n",
              "    .dataframe tbody tr th:only-of-type {\n",
              "        vertical-align: middle;\n",
              "    }\n",
              "\n",
              "    .dataframe tbody tr th {\n",
              "        vertical-align: top;\n",
              "    }\n",
              "\n",
              "    .dataframe thead th {\n",
              "        text-align: right;\n",
              "    }\n",
              "</style>\n",
              "<table border=\"1\" class=\"dataframe\">\n",
              "  <thead>\n",
              "    <tr style=\"text-align: right;\">\n",
              "      <th></th>\n",
              "      <th>InternetService</th>\n",
              "      <th>OnlineSecurity</th>\n",
              "      <th>OnlineBackup</th>\n",
              "      <th>DeviceProtection</th>\n",
              "      <th>TechSupport</th>\n",
              "      <th>StreamingTV</th>\n",
              "      <th>StreamingMovies</th>\n",
              "    </tr>\n",
              "  </thead>\n",
              "  <tbody>\n",
              "    <tr>\n",
              "      <th>count</th>\n",
              "      <td>5517</td>\n",
              "      <td>5517</td>\n",
              "      <td>5517</td>\n",
              "      <td>5517</td>\n",
              "      <td>5517</td>\n",
              "      <td>5517</td>\n",
              "      <td>5517</td>\n",
              "    </tr>\n",
              "    <tr>\n",
              "      <th>unique</th>\n",
              "      <td>2</td>\n",
              "      <td>2</td>\n",
              "      <td>2</td>\n",
              "      <td>2</td>\n",
              "      <td>2</td>\n",
              "      <td>2</td>\n",
              "      <td>2</td>\n",
              "    </tr>\n",
              "    <tr>\n",
              "      <th>top</th>\n",
              "      <td>Fiber optic</td>\n",
              "      <td>No</td>\n",
              "      <td>No</td>\n",
              "      <td>No</td>\n",
              "      <td>No</td>\n",
              "      <td>No</td>\n",
              "      <td>No</td>\n",
              "    </tr>\n",
              "    <tr>\n",
              "      <th>freq</th>\n",
              "      <td>3096</td>\n",
              "      <td>3498</td>\n",
              "      <td>3088</td>\n",
              "      <td>3095</td>\n",
              "      <td>3473</td>\n",
              "      <td>2810</td>\n",
              "      <td>2785</td>\n",
              "    </tr>\n",
              "  </tbody>\n",
              "</table>\n",
              "</div>"
            ],
            "text/plain": [
              "       InternetService OnlineSecurity OnlineBackup DeviceProtection  \\\n",
              "count             5517           5517         5517             5517   \n",
              "unique               2              2            2                2   \n",
              "top        Fiber optic             No           No               No   \n",
              "freq              3096           3498         3088             3095   \n",
              "\n",
              "       TechSupport StreamingTV StreamingMovies  \n",
              "count         5517        5517            5517  \n",
              "unique           2           2               2  \n",
              "top             No          No              No  \n",
              "freq          3473        2810            2785  "
            ]
          },
          "execution_count": 25,
          "metadata": {},
          "output_type": "execute_result"
        }
      ],
      "execution_count": 25
    },
    {
      "cell_type": "code",
      "source": "internet_data.isnull().sum()",
      "metadata": {},
      "outputs": [
        {
          "data": {
            "text/plain": [
              "InternetService     0\n",
              "OnlineSecurity      0\n",
              "OnlineBackup        0\n",
              "DeviceProtection    0\n",
              "TechSupport         0\n",
              "StreamingTV         0\n",
              "StreamingMovies     0\n",
              "dtype: int64"
            ]
          },
          "execution_count": 26,
          "metadata": {},
          "output_type": "execute_result"
        }
      ],
      "execution_count": 26
    },
    {
      "cell_type": "code",
      "source": "internet_data['InternetService'].hist()\nplt.title('Тип интернет подключения');",
      "metadata": {},
      "outputs": [
        {
          "data": {
            "image/png": "[encoded data removed]",
            "text/plain": [
              "<Figure size 432x288 with 1 Axes>"
            ]
          },
          "metadata": {
            "needs_background": "light"
          },
          "output_type": "display_data"
        }
      ],
      "execution_count": 27
    },
    {
      "cell_type": "code",
      "source": "internet_data['OnlineSecurity'].hist()\nplt.title('Блокировка небезопасных сайтов');",
      "metadata": {},
      "outputs": [
        {
          "data": {
            "image/png": "[encoded data removed]",
            "text/plain": [
              "<Figure size 432x288 with 1 Axes>"
            ]
          },
          "metadata": {
            "needs_background": "light"
          },
          "output_type": "display_data"
        }
      ],
      "execution_count": 28
    },
    {
      "cell_type": "code",
      "source": "internet_data['OnlineBackup'].hist()\nplt.title('Облачное хранилище');",
      "metadata": {},
      "outputs": [
        {
          "data": {
            "image/png": "[encoded data removed]",
            "text/plain": [
              "<Figure size 432x288 with 1 Axes>"
            ]
          },
          "metadata": {
            "needs_background": "light"
          },
          "output_type": "display_data"
        }
      ],
      "execution_count": 29
    },
    {
      "cell_type": "code",
      "source": "internet_data['DeviceProtection'].hist()\nplt.title('Интернет-безопасность');",
      "metadata": {},
      "outputs": [
        {
          "data": {
            "image/png": "[encoded data removed]",
            "text/plain": [
              "<Figure size 432x288 with 1 Axes>"
            ]
          },
          "metadata": {
            "needs_background": "light"
          },
          "output_type": "display_data"
        }
      ],
      "execution_count": 30
    },
    {
      "cell_type": "code",
      "source": "internet_data['TechSupport'].hist()\nplt.title('Выделенная линия технической поддержки');",
      "metadata": {},
      "outputs": [
        {
          "data": {
            "image/png": "[encoded data removed]",
            "text/plain": [
              "<Figure size 432x288 with 1 Axes>"
            ]
          },
          "metadata": {
            "needs_background": "light"
          },
          "output_type": "display_data"
        }
      ],
      "execution_count": 31
    },
    {
      "cell_type": "code",
      "source": "internet_data['StreamingTV'].hist()\nplt.title('Стриминговое телевидение');",
      "metadata": {},
      "outputs": [
        {
          "data": {
            "image/png": "[encoded data removed]",
            "text/plain": [
              "<Figure size 432x288 with 1 Axes>"
            ]
          },
          "metadata": {
            "needs_background": "light"
          },
          "output_type": "display_data"
        }
      ],
      "execution_count": 32
    },
    {
      "cell_type": "code",
      "source": "internet_data['StreamingMovies'].hist()\nplt.title('Каталог фильмов');",
      "metadata": {},
      "outputs": [
        {
          "data": {
            "image/png": "[encoded data removed]",
            "text/plain": [
              "<Figure size 432x288 with 1 Axes>"
            ]
          },
          "metadata": {
            "needs_background": "light"
          },
          "output_type": "display_data"
        }
      ],
      "execution_count": 33
    },
    {
      "cell_type": "code",
      "source": "phone_data.info()",
      "metadata": {},
      "outputs": [
        {
          "name": "stdout",
          "output_type": "stream",
          "text": [
            "<class 'pandas.core.frame.DataFrame'>\n",
            "Index: 6361 entries, 5575-GNVDE to 3186-AJIEK\n",
            "Data columns (total 1 columns):\n",
            " #   Column         Non-Null Count  Dtype \n",
            "---  ------         --------------  ----- \n",
            " 0   MultipleLines  6361 non-null   object\n",
            "dtypes: object(1)\n",
            "memory usage: 99.4+ KB\n"
          ]
        }
      ],
      "execution_count": 34
    },
    {
      "cell_type": "code",
      "source": "phone_data.head(3)",
      "metadata": {},
      "outputs": [
        {
          "data": {
            "text/html": [
              "<div>\n",
              "<style scoped>\n",
              "    .dataframe tbody tr th:only-of-type {\n",
              "        vertical-align: middle;\n",
              "    }\n",
              "\n",
              "    .dataframe tbody tr th {\n",
              "        vertical-align: top;\n",
              "    }\n",
              "\n",
              "    .dataframe thead th {\n",
              "        text-align: right;\n",
              "    }\n",
              "</style>\n",
              "<table border=\"1\" class=\"dataframe\">\n",
              "  <thead>\n",
              "    <tr style=\"text-align: right;\">\n",
              "      <th></th>\n",
              "      <th>MultipleLines</th>\n",
              "    </tr>\n",
              "    <tr>\n",
              "      <th>customerID</th>\n",
              "      <th></th>\n",
              "    </tr>\n",
              "  </thead>\n",
              "  <tbody>\n",
              "    <tr>\n",
              "      <th>5575-GNVDE</th>\n",
              "      <td>No</td>\n",
              "    </tr>\n",
              "    <tr>\n",
              "      <th>3668-QPYBK</th>\n",
              "      <td>No</td>\n",
              "    </tr>\n",
              "    <tr>\n",
              "      <th>9237-HQITU</th>\n",
              "      <td>No</td>\n",
              "    </tr>\n",
              "  </tbody>\n",
              "</table>\n",
              "</div>"
            ],
            "text/plain": [
              "           MultipleLines\n",
              "customerID              \n",
              "5575-GNVDE            No\n",
              "3668-QPYBK            No\n",
              "9237-HQITU            No"
            ]
          },
          "execution_count": 35,
          "metadata": {},
          "output_type": "execute_result"
        }
      ],
      "execution_count": 35
    },
    {
      "cell_type": "code",
      "source": "phone_data.shape",
      "metadata": {},
      "outputs": [
        {
          "data": {
            "text/plain": [
              "(6361, 1)"
            ]
          },
          "execution_count": 36,
          "metadata": {},
          "output_type": "execute_result"
        }
      ],
      "execution_count": 36
    },
    {
      "cell_type": "code",
      "source": "phone_data.describe()",
      "metadata": {},
      "outputs": [
        {
          "data": {
            "text/html": [
              "<div>\n",
              "<style scoped>\n",
              "    .dataframe tbody tr th:only-of-type {\n",
              "        vertical-align: middle;\n",
              "    }\n",
              "\n",
              "    .dataframe tbody tr th {\n",
              "        vertical-align: top;\n",
              "    }\n",
              "\n",
              "    .dataframe thead th {\n",
              "        text-align: right;\n",
              "    }\n",
              "</style>\n",
              "<table border=\"1\" class=\"dataframe\">\n",
              "  <thead>\n",
              "    <tr style=\"text-align: right;\">\n",
              "      <th></th>\n",
              "      <th>MultipleLines</th>\n",
              "    </tr>\n",
              "  </thead>\n",
              "  <tbody>\n",
              "    <tr>\n",
              "      <th>count</th>\n",
              "      <td>6361</td>\n",
              "    </tr>\n",
              "    <tr>\n",
              "      <th>unique</th>\n",
              "      <td>2</td>\n",
              "    </tr>\n",
              "    <tr>\n",
              "      <th>top</th>\n",
              "      <td>No</td>\n",
              "    </tr>\n",
              "    <tr>\n",
              "      <th>freq</th>\n",
              "      <td>3390</td>\n",
              "    </tr>\n",
              "  </tbody>\n",
              "</table>\n",
              "</div>"
            ],
            "text/plain": [
              "       MultipleLines\n",
              "count           6361\n",
              "unique             2\n",
              "top               No\n",
              "freq            3390"
            ]
          },
          "execution_count": 37,
          "metadata": {},
          "output_type": "execute_result"
        }
      ],
      "execution_count": 37
    },
    {
      "cell_type": "code",
      "source": "phone_data.isnull().sum()",
      "metadata": {},
      "outputs": [
        {
          "data": {
            "text/plain": [
              "MultipleLines    0\n",
              "dtype: int64"
            ]
          },
          "execution_count": 38,
          "metadata": {},
          "output_type": "execute_result"
        }
      ],
      "execution_count": 38
    },
    {
      "cell_type": "code",
      "source": "phone_data['MultipleLines'].hist()\nplt.title('Возможность ведения параллельных линий');",
      "metadata": {},
      "outputs": [
        {
          "data": {
            "image/png": "[encoded data removed]",
            "text/plain": [
              "<Figure size 432x288 with 1 Axes>"
            ]
          },
          "metadata": {
            "needs_background": "light"
          },
          "output_type": "display_data"
        }
      ],
      "execution_count": 39
    },
    {
      "cell_type": "markdown",
      "source": "##### **2. Предобработка данных датасетов. Обучение модели задачи классификации. Проверка успешности модели.**",
      "metadata": {}
    },
    {
      "cell_type": "code",
      "source": "data_contract = contract_data.copy()",
      "metadata": {},
      "outputs": [],
      "execution_count": 40
    },
    {
      "cell_type": "code",
      "source": "data_contract['Churn'] = (data_contract['EndDate'] != 'No').astype(int)",
      "metadata": {},
      "outputs": [],
      "execution_count": 41
    },
    {
      "cell_type": "code",
      "source": "data_contract.loc[data_contract['TotalCharges'] == \" \", 'TotalCharges'] = 0",
      "metadata": {},
      "outputs": [],
      "execution_count": 42
    },
    {
      "cell_type": "code",
      "source": "data_contract['TotalCharges'] = data_contract['TotalCharges'].astype(float)",
      "metadata": {},
      "outputs": [],
      "execution_count": 43
    },
    {
      "cell_type": "code",
      "source": "data_contract['BeginDate'] = pd.to_datetime(data_contract['BeginDate'])\n\ndata_contract['MonthlyCharges'] = data_contract['MonthlyCharges'].astype('float')",
      "metadata": {},
      "outputs": [],
      "execution_count": 44
    },
    {
      "cell_type": "code",
      "source": "data_contract['EndDate'] = data_contract['EndDate'].where(data_contract['EndDate'] != 'No', '2020-02-01')\n\ndata_contract['EndDate'] = pd.to_datetime(data_contract['EndDate'])",
      "metadata": {},
      "outputs": [],
      "execution_count": 45
    },
    {
      "cell_type": "code",
      "source": "data_contract['Period'] = (data_contract['EndDate'] - data_contract['BeginDate']).dt.days",
      "metadata": {},
      "outputs": [],
      "execution_count": 46
    },
    {
      "cell_type": "code",
      "source": "data_contract.head(5)",
      "metadata": {},
      "outputs": [
        {
          "data": {
            "text/html": [
              "<div>\n",
              "<style scoped>\n",
              "    .dataframe tbody tr th:only-of-type {\n",
              "        vertical-align: middle;\n",
              "    }\n",
              "\n",
              "    .dataframe tbody tr th {\n",
              "        vertical-align: top;\n",
              "    }\n",
              "\n",
              "    .dataframe thead th {\n",
              "        text-align: right;\n",
              "    }\n",
              "</style>\n",
              "<table border=\"1\" class=\"dataframe\">\n",
              "  <thead>\n",
              "    <tr style=\"text-align: right;\">\n",
              "      <th></th>\n",
              "      <th>BeginDate</th>\n",
              "      <th>EndDate</th>\n",
              "      <th>Type</th>\n",
              "      <th>PaperlessBilling</th>\n",
              "      <th>PaymentMethod</th>\n",
              "      <th>MonthlyCharges</th>\n",
              "      <th>TotalCharges</th>\n",
              "      <th>Churn</th>\n",
              "      <th>Period</th>\n",
              "    </tr>\n",
              "    <tr>\n",
              "      <th>customerID</th>\n",
              "      <th></th>\n",
              "      <th></th>\n",
              "      <th></th>\n",
              "      <th></th>\n",
              "      <th></th>\n",
              "      <th></th>\n",
              "      <th></th>\n",
              "      <th></th>\n",
              "      <th></th>\n",
              "    </tr>\n",
              "  </thead>\n",
              "  <tbody>\n",
              "    <tr>\n",
              "      <th>7590-VHVEG</th>\n",
              "      <td>2020-01-01</td>\n",
              "      <td>2020-02-01</td>\n",
              "      <td>Month-to-month</td>\n",
              "      <td>Yes</td>\n",
              "      <td>Electronic check</td>\n",
              "      <td>29.85</td>\n",
              "      <td>29.85</td>\n",
              "      <td>0</td>\n",
              "      <td>31</td>\n",
              "    </tr>\n",
              "    <tr>\n",
              "      <th>5575-GNVDE</th>\n",
              "      <td>2017-04-01</td>\n",
              "      <td>2020-02-01</td>\n",
              "      <td>One year</td>\n",
              "      <td>No</td>\n",
              "      <td>Mailed check</td>\n",
              "      <td>56.95</td>\n",
              "      <td>1889.50</td>\n",
              "      <td>0</td>\n",
              "      <td>1036</td>\n",
              "    </tr>\n",
              "    <tr>\n",
              "      <th>3668-QPYBK</th>\n",
              "      <td>2019-10-01</td>\n",
              "      <td>2019-12-01</td>\n",
              "      <td>Month-to-month</td>\n",
              "      <td>Yes</td>\n",
              "      <td>Mailed check</td>\n",
              "      <td>53.85</td>\n",
              "      <td>108.15</td>\n",
              "      <td>1</td>\n",
              "      <td>61</td>\n",
              "    </tr>\n",
              "    <tr>\n",
              "      <th>7795-CFOCW</th>\n",
              "      <td>2016-05-01</td>\n",
              "      <td>2020-02-01</td>\n",
              "      <td>One year</td>\n",
              "      <td>No</td>\n",
              "      <td>Bank transfer (automatic)</td>\n",
              "      <td>42.30</td>\n",
              "      <td>1840.75</td>\n",
              "      <td>0</td>\n",
              "      <td>1371</td>\n",
              "    </tr>\n",
              "    <tr>\n",
              "      <th>9237-HQITU</th>\n",
              "      <td>2019-09-01</td>\n",
              "      <td>2019-11-01</td>\n",
              "      <td>Month-to-month</td>\n",
              "      <td>Yes</td>\n",
              "      <td>Electronic check</td>\n",
              "      <td>70.70</td>\n",
              "      <td>151.65</td>\n",
              "      <td>1</td>\n",
              "      <td>61</td>\n",
              "    </tr>\n",
              "  </tbody>\n",
              "</table>\n",
              "</div>"
            ],
            "text/plain": [
              "            BeginDate    EndDate            Type PaperlessBilling  \\\n",
              "customerID                                                          \n",
              "7590-VHVEG 2020-01-01 2020-02-01  Month-to-month              Yes   \n",
              "5575-GNVDE 2017-04-01 2020-02-01        One year               No   \n",
              "3668-QPYBK 2019-10-01 2019-12-01  Month-to-month              Yes   \n",
              "7795-CFOCW 2016-05-01 2020-02-01        One year               No   \n",
              "9237-HQITU 2019-09-01 2019-11-01  Month-to-month              Yes   \n",
              "\n",
              "                        PaymentMethod  MonthlyCharges  TotalCharges  Churn  \\\n",
              "customerID                                                                   \n",
              "7590-VHVEG           Electronic check           29.85         29.85      0   \n",
              "5575-GNVDE               Mailed check           56.95       1889.50      0   \n",
              "3668-QPYBK               Mailed check           53.85        108.15      1   \n",
              "7795-CFOCW  Bank transfer (automatic)           42.30       1840.75      0   \n",
              "9237-HQITU           Electronic check           70.70        151.65      1   \n",
              "\n",
              "            Period  \n",
              "customerID          \n",
              "7590-VHVEG      31  \n",
              "5575-GNVDE    1036  \n",
              "3668-QPYBK      61  \n",
              "7795-CFOCW    1371  \n",
              "9237-HQITU      61  "
            ]
          },
          "execution_count": 47,
          "metadata": {},
          "output_type": "execute_result"
        }
      ],
      "execution_count": 47
    },
    {
      "cell_type": "code",
      "source": "personal_data.drop(['SeniorCitizen'], axis= 1, inplace=True)",
      "metadata": {},
      "outputs": [],
      "execution_count": 48
    },
    {
      "cell_type": "code",
      "source": "data_contract.drop(['PaperlessBilling'], axis= 1, inplace=True)",
      "metadata": {},
      "outputs": [],
      "execution_count": 49
    },
    {
      "cell_type": "code",
      "source": "data_contract.drop(['PaymentMethod'], axis= 1, inplace=True)",
      "metadata": {},
      "outputs": [],
      "execution_count": 50
    },
    {
      "cell_type": "code",
      "source": "data_contract.drop(['BeginDate', 'EndDate'], axis= 1, inplace=True)",
      "metadata": {},
      "outputs": [],
      "execution_count": 51
    },
    {
      "cell_type": "code",
      "source": "data = data_contract.join(personal_data)",
      "metadata": {},
      "outputs": [],
      "execution_count": 52
    },
    {
      "cell_type": "code",
      "source": "data = data.join(internet_data)",
      "metadata": {},
      "outputs": [],
      "execution_count": 53
    },
    {
      "cell_type": "code",
      "source": "data = data.join(phone_data)",
      "metadata": {},
      "outputs": [],
      "execution_count": 54
    },
    {
      "cell_type": "code",
      "source": "data.head(5)",
      "metadata": {},
      "outputs": [
        {
          "data": {
            "text/html": [
              "<div>\n",
              "<style scoped>\n",
              "    .dataframe tbody tr th:only-of-type {\n",
              "        vertical-align: middle;\n",
              "    }\n",
              "\n",
              "    .dataframe tbody tr th {\n",
              "        vertical-align: top;\n",
              "    }\n",
              "\n",
              "    .dataframe thead th {\n",
              "        text-align: right;\n",
              "    }\n",
              "</style>\n",
              "<table border=\"1\" class=\"dataframe\">\n",
              "  <thead>\n",
              "    <tr style=\"text-align: right;\">\n",
              "      <th></th>\n",
              "      <th>Type</th>\n",
              "      <th>MonthlyCharges</th>\n",
              "      <th>TotalCharges</th>\n",
              "      <th>Churn</th>\n",
              "      <th>Period</th>\n",
              "      <th>gender</th>\n",
              "      <th>Partner</th>\n",
              "      <th>Dependents</th>\n",
              "      <th>InternetService</th>\n",
              "      <th>OnlineSecurity</th>\n",
              "      <th>OnlineBackup</th>\n",
              "      <th>DeviceProtection</th>\n",
              "      <th>TechSupport</th>\n",
              "      <th>StreamingTV</th>\n",
              "      <th>StreamingMovies</th>\n",
              "      <th>MultipleLines</th>\n",
              "    </tr>\n",
              "    <tr>\n",
              "      <th>customerID</th>\n",
              "      <th></th>\n",
              "      <th></th>\n",
              "      <th></th>\n",
              "      <th></th>\n",
              "      <th></th>\n",
              "      <th></th>\n",
              "      <th></th>\n",
              "      <th></th>\n",
              "      <th></th>\n",
              "      <th></th>\n",
              "      <th></th>\n",
              "      <th></th>\n",
              "      <th></th>\n",
              "      <th></th>\n",
              "      <th></th>\n",
              "      <th></th>\n",
              "    </tr>\n",
              "  </thead>\n",
              "  <tbody>\n",
              "    <tr>\n",
              "      <th>7590-VHVEG</th>\n",
              "      <td>Month-to-month</td>\n",
              "      <td>29.85</td>\n",
              "      <td>29.85</td>\n",
              "      <td>0</td>\n",
              "      <td>31</td>\n",
              "      <td>Female</td>\n",
              "      <td>Yes</td>\n",
              "      <td>No</td>\n",
              "      <td>DSL</td>\n",
              "      <td>No</td>\n",
              "      <td>Yes</td>\n",
              "      <td>No</td>\n",
              "      <td>No</td>\n",
              "      <td>No</td>\n",
              "      <td>No</td>\n",
              "      <td>NaN</td>\n",
              "    </tr>\n",
              "    <tr>\n",
              "      <th>5575-GNVDE</th>\n",
              "      <td>One year</td>\n",
              "      <td>56.95</td>\n",
              "      <td>1889.50</td>\n",
              "      <td>0</td>\n",
              "      <td>1036</td>\n",
              "      <td>Male</td>\n",
              "      <td>No</td>\n",
              "      <td>No</td>\n",
              "      <td>DSL</td>\n",
              "      <td>Yes</td>\n",
              "      <td>No</td>\n",
              "      <td>Yes</td>\n",
              "      <td>No</td>\n",
              "      <td>No</td>\n",
              "      <td>No</td>\n",
              "      <td>No</td>\n",
              "    </tr>\n",
              "    <tr>\n",
              "      <th>3668-QPYBK</th>\n",
              "      <td>Month-to-month</td>\n",
              "      <td>53.85</td>\n",
              "      <td>108.15</td>\n",
              "      <td>1</td>\n",
              "      <td>61</td>\n",
              "      <td>Male</td>\n",
              "      <td>No</td>\n",
              "      <td>No</td>\n",
              "      <td>DSL</td>\n",
              "      <td>Yes</td>\n",
              "      <td>Yes</td>\n",
              "      <td>No</td>\n",
              "      <td>No</td>\n",
              "      <td>No</td>\n",
              "      <td>No</td>\n",
              "      <td>No</td>\n",
              "    </tr>\n",
              "    <tr>\n",
              "      <th>7795-CFOCW</th>\n",
              "      <td>One year</td>\n",
              "      <td>42.30</td>\n",
              "      <td>1840.75</td>\n",
              "      <td>0</td>\n",
              "      <td>1371</td>\n",
              "      <td>Male</td>\n",
              "      <td>No</td>\n",
              "      <td>No</td>\n",
              "      <td>DSL</td>\n",
              "      <td>Yes</td>\n",
              "      <td>No</td>\n",
              "      <td>Yes</td>\n",
              "      <td>Yes</td>\n",
              "      <td>No</td>\n",
              "      <td>No</td>\n",
              "      <td>NaN</td>\n",
              "    </tr>\n",
              "    <tr>\n",
              "      <th>9237-HQITU</th>\n",
              "      <td>Month-to-month</td>\n",
              "      <td>70.70</td>\n",
              "      <td>151.65</td>\n",
              "      <td>1</td>\n",
              "      <td>61</td>\n",
              "      <td>Female</td>\n",
              "      <td>No</td>\n",
              "      <td>No</td>\n",
              "      <td>Fiber optic</td>\n",
              "      <td>No</td>\n",
              "      <td>No</td>\n",
              "      <td>No</td>\n",
              "      <td>No</td>\n",
              "      <td>No</td>\n",
              "      <td>No</td>\n",
              "      <td>No</td>\n",
              "    </tr>\n",
              "  </tbody>\n",
              "</table>\n",
              "</div>"
            ],
            "text/plain": [
              "                      Type  MonthlyCharges  TotalCharges  Churn  Period  \\\n",
              "customerID                                                                \n",
              "7590-VHVEG  Month-to-month           29.85         29.85      0      31   \n",
              "5575-GNVDE        One year           56.95       1889.50      0    1036   \n",
              "3668-QPYBK  Month-to-month           53.85        108.15      1      61   \n",
              "7795-CFOCW        One year           42.30       1840.75      0    1371   \n",
              "9237-HQITU  Month-to-month           70.70        151.65      1      61   \n",
              "\n",
              "            gender Partner Dependents InternetService OnlineSecurity  \\\n",
              "customerID                                                             \n",
              "7590-VHVEG  Female     Yes         No             DSL             No   \n",
              "5575-GNVDE    Male      No         No             DSL            Yes   \n",
              "3668-QPYBK    Male      No         No             DSL            Yes   \n",
              "7795-CFOCW    Male      No         No             DSL            Yes   \n",
              "9237-HQITU  Female      No         No     Fiber optic             No   \n",
              "\n",
              "           OnlineBackup DeviceProtection TechSupport StreamingTV  \\\n",
              "customerID                                                         \n",
              "7590-VHVEG          Yes               No          No          No   \n",
              "5575-GNVDE           No              Yes          No          No   \n",
              "3668-QPYBK          Yes               No          No          No   \n",
              "7795-CFOCW           No              Yes         Yes          No   \n",
              "9237-HQITU           No               No          No          No   \n",
              "\n",
              "           StreamingMovies MultipleLines  \n",
              "customerID                                \n",
              "7590-VHVEG              No           NaN  \n",
              "5575-GNVDE              No            No  \n",
              "3668-QPYBK              No            No  \n",
              "7795-CFOCW              No           NaN  \n",
              "9237-HQITU              No            No  "
            ]
          },
          "execution_count": 55,
          "metadata": {},
          "output_type": "execute_result"
        }
      ],
      "execution_count": 55
    },
    {
      "cell_type": "code",
      "source": "data.info()",
      "metadata": {},
      "outputs": [
        {
          "name": "stdout",
          "output_type": "stream",
          "text": [
            "<class 'pandas.core.frame.DataFrame'>\n",
            "Index: 7043 entries, 7590-VHVEG to 3186-AJIEK\n",
            "Data columns (total 16 columns):\n",
            " #   Column            Non-Null Count  Dtype  \n",
            "---  ------            --------------  -----  \n",
            " 0   Type              7043 non-null   object \n",
            " 1   MonthlyCharges    7043 non-null   float64\n",
            " 2   TotalCharges      7043 non-null   float64\n",
            " 3   Churn             7043 non-null   int64  \n",
            " 4   Period            7043 non-null   int64  \n",
            " 5   gender            7043 non-null   object \n",
            " 6   Partner           7043 non-null   object \n",
            " 7   Dependents        7043 non-null   object \n",
            " 8   InternetService   5517 non-null   object \n",
            " 9   OnlineSecurity    5517 non-null   object \n",
            " 10  OnlineBackup      5517 non-null   object \n",
            " 11  DeviceProtection  5517 non-null   object \n",
            " 12  TechSupport       5517 non-null   object \n",
            " 13  StreamingTV       5517 non-null   object \n",
            " 14  StreamingMovies   5517 non-null   object \n",
            " 15  MultipleLines     6361 non-null   object \n",
            "dtypes: float64(2), int64(2), object(12)\n",
            "memory usage: 1.2+ MB\n"
          ]
        }
      ],
      "execution_count": 56
    },
    {
      "cell_type": "code",
      "source": "print('Размер выборки:', data.shape)\nprint('Количество явных дубликатов:', data.duplicated().sum())\nprint('Количество пропущенных значений:', data.isna().sum())",
      "metadata": {},
      "outputs": [
        {
          "name": "stdout",
          "output_type": "stream",
          "text": [
            "Размер выборки: (7043, 16)\n",
            "Количество явных дубликатов: 49\n",
            "Количество пропущенных значений: Type                   0\n",
            "MonthlyCharges         0\n",
            "TotalCharges           0\n",
            "Churn                  0\n",
            "Period                 0\n",
            "gender                 0\n",
            "Partner                0\n",
            "Dependents             0\n",
            "InternetService     1526\n",
            "OnlineSecurity      1526\n",
            "OnlineBackup        1526\n",
            "DeviceProtection    1526\n",
            "TechSupport         1526\n",
            "StreamingTV         1526\n",
            "StreamingMovies     1526\n",
            "MultipleLines        682\n",
            "dtype: int64\n"
          ]
        }
      ],
      "execution_count": 57
    },
    {
      "cell_type": "code",
      "source": "data = data.fillna('No')\n",
      "metadata": {},
      "outputs": [],
      "execution_count": 58
    },
    {
      "cell_type": "code",
      "source": "print('Количество пропущенных значений:', data.isna().sum())",
      "metadata": {},
      "outputs": [
        {
          "name": "stdout",
          "output_type": "stream",
          "text": [
            "Количество пропущенных значений: Type                0\n",
            "MonthlyCharges      0\n",
            "TotalCharges        0\n",
            "Churn               0\n",
            "Period              0\n",
            "gender              0\n",
            "Partner             0\n",
            "Dependents          0\n",
            "InternetService     0\n",
            "OnlineSecurity      0\n",
            "OnlineBackup        0\n",
            "DeviceProtection    0\n",
            "TechSupport         0\n",
            "StreamingTV         0\n",
            "StreamingMovies     0\n",
            "MultipleLines       0\n",
            "dtype: int64\n"
          ]
        }
      ],
      "execution_count": 59
    },
    {
      "cell_type": "code",
      "source": "data.describe()",
      "metadata": {},
      "outputs": [
        {
          "data": {
            "text/html": [
              "<div>\n",
              "<style scoped>\n",
              "    .dataframe tbody tr th:only-of-type {\n",
              "        vertical-align: middle;\n",
              "    }\n",
              "\n",
              "    .dataframe tbody tr th {\n",
              "        vertical-align: top;\n",
              "    }\n",
              "\n",
              "    .dataframe thead th {\n",
              "        text-align: right;\n",
              "    }\n",
              "</style>\n",
              "<table border=\"1\" class=\"dataframe\">\n",
              "  <thead>\n",
              "    <tr style=\"text-align: right;\">\n",
              "      <th></th>\n",
              "      <th>MonthlyCharges</th>\n",
              "      <th>TotalCharges</th>\n",
              "      <th>Churn</th>\n",
              "      <th>Period</th>\n",
              "    </tr>\n",
              "  </thead>\n",
              "  <tbody>\n",
              "    <tr>\n",
              "      <th>count</th>\n",
              "      <td>7043.000000</td>\n",
              "      <td>7043.000000</td>\n",
              "      <td>7043.000000</td>\n",
              "      <td>7043.000000</td>\n",
              "    </tr>\n",
              "    <tr>\n",
              "      <th>mean</th>\n",
              "      <td>64.761692</td>\n",
              "      <td>2279.734304</td>\n",
              "      <td>0.265370</td>\n",
              "      <td>985.996166</td>\n",
              "    </tr>\n",
              "    <tr>\n",
              "      <th>std</th>\n",
              "      <td>30.090047</td>\n",
              "      <td>2266.794470</td>\n",
              "      <td>0.441561</td>\n",
              "      <td>747.587844</td>\n",
              "    </tr>\n",
              "    <tr>\n",
              "      <th>min</th>\n",
              "      <td>18.250000</td>\n",
              "      <td>0.000000</td>\n",
              "      <td>0.000000</td>\n",
              "      <td>0.000000</td>\n",
              "    </tr>\n",
              "    <tr>\n",
              "      <th>25%</th>\n",
              "      <td>35.500000</td>\n",
              "      <td>398.550000</td>\n",
              "      <td>0.000000</td>\n",
              "      <td>273.000000</td>\n",
              "    </tr>\n",
              "    <tr>\n",
              "      <th>50%</th>\n",
              "      <td>70.350000</td>\n",
              "      <td>1394.550000</td>\n",
              "      <td>0.000000</td>\n",
              "      <td>883.000000</td>\n",
              "    </tr>\n",
              "    <tr>\n",
              "      <th>75%</th>\n",
              "      <td>89.850000</td>\n",
              "      <td>3786.600000</td>\n",
              "      <td>1.000000</td>\n",
              "      <td>1676.000000</td>\n",
              "    </tr>\n",
              "    <tr>\n",
              "      <th>max</th>\n",
              "      <td>118.750000</td>\n",
              "      <td>8684.800000</td>\n",
              "      <td>1.000000</td>\n",
              "      <td>2191.000000</td>\n",
              "    </tr>\n",
              "  </tbody>\n",
              "</table>\n",
              "</div>"
            ],
            "text/plain": [
              "       MonthlyCharges  TotalCharges        Churn       Period\n",
              "count     7043.000000   7043.000000  7043.000000  7043.000000\n",
              "mean        64.761692   2279.734304     0.265370   985.996166\n",
              "std         30.090047   2266.794470     0.441561   747.587844\n",
              "min         18.250000      0.000000     0.000000     0.000000\n",
              "25%         35.500000    398.550000     0.000000   273.000000\n",
              "50%         70.350000   1394.550000     0.000000   883.000000\n",
              "75%         89.850000   3786.600000     1.000000  1676.000000\n",
              "max        118.750000   8684.800000     1.000000  2191.000000"
            ]
          },
          "execution_count": 60,
          "metadata": {},
          "output_type": "execute_result"
        }
      ],
      "execution_count": 60
    },
    {
      "cell_type": "code",
      "source": "data = data.drop_duplicates()",
      "metadata": {},
      "outputs": [],
      "execution_count": 61
    },
    {
      "cell_type": "code",
      "source": "print('Количество явных дубликатов:', data.duplicated().sum())",
      "metadata": {},
      "outputs": [
        {
          "name": "stdout",
          "output_type": "stream",
          "text": [
            "Количество явных дубликатов: 0\n"
          ]
        }
      ],
      "execution_count": 62
    },
    {
      "cell_type": "code",
      "source": "data.head(3)",
      "metadata": {},
      "outputs": [
        {
          "data": {
            "text/html": [
              "<div>\n",
              "<style scoped>\n",
              "    .dataframe tbody tr th:only-of-type {\n",
              "        vertical-align: middle;\n",
              "    }\n",
              "\n",
              "    .dataframe tbody tr th {\n",
              "        vertical-align: top;\n",
              "    }\n",
              "\n",
              "    .dataframe thead th {\n",
              "        text-align: right;\n",
              "    }\n",
              "</style>\n",
              "<table border=\"1\" class=\"dataframe\">\n",
              "  <thead>\n",
              "    <tr style=\"text-align: right;\">\n",
              "      <th></th>\n",
              "      <th>Type</th>\n",
              "      <th>MonthlyCharges</th>\n",
              "      <th>TotalCharges</th>\n",
              "      <th>Churn</th>\n",
              "      <th>Period</th>\n",
              "      <th>gender</th>\n",
              "      <th>Partner</th>\n",
              "      <th>Dependents</th>\n",
              "      <th>InternetService</th>\n",
              "      <th>OnlineSecurity</th>\n",
              "      <th>OnlineBackup</th>\n",
              "      <th>DeviceProtection</th>\n",
              "      <th>TechSupport</th>\n",
              "      <th>StreamingTV</th>\n",
              "      <th>StreamingMovies</th>\n",
              "      <th>MultipleLines</th>\n",
              "    </tr>\n",
              "    <tr>\n",
              "      <th>customerID</th>\n",
              "      <th></th>\n",
              "      <th></th>\n",
              "      <th></th>\n",
              "      <th></th>\n",
              "      <th></th>\n",
              "      <th></th>\n",
              "      <th></th>\n",
              "      <th></th>\n",
              "      <th></th>\n",
              "      <th></th>\n",
              "      <th></th>\n",
              "      <th></th>\n",
              "      <th></th>\n",
              "      <th></th>\n",
              "      <th></th>\n",
              "      <th></th>\n",
              "    </tr>\n",
              "  </thead>\n",
              "  <tbody>\n",
              "    <tr>\n",
              "      <th>7590-VHVEG</th>\n",
              "      <td>Month-to-month</td>\n",
              "      <td>29.85</td>\n",
              "      <td>29.85</td>\n",
              "      <td>0</td>\n",
              "      <td>31</td>\n",
              "      <td>Female</td>\n",
              "      <td>Yes</td>\n",
              "      <td>No</td>\n",
              "      <td>DSL</td>\n",
              "      <td>No</td>\n",
              "      <td>Yes</td>\n",
              "      <td>No</td>\n",
              "      <td>No</td>\n",
              "      <td>No</td>\n",
              "      <td>No</td>\n",
              "      <td>No</td>\n",
              "    </tr>\n",
              "    <tr>\n",
              "      <th>5575-GNVDE</th>\n",
              "      <td>One year</td>\n",
              "      <td>56.95</td>\n",
              "      <td>1889.50</td>\n",
              "      <td>0</td>\n",
              "      <td>1036</td>\n",
              "      <td>Male</td>\n",
              "      <td>No</td>\n",
              "      <td>No</td>\n",
              "      <td>DSL</td>\n",
              "      <td>Yes</td>\n",
              "      <td>No</td>\n",
              "      <td>Yes</td>\n",
              "      <td>No</td>\n",
              "      <td>No</td>\n",
              "      <td>No</td>\n",
              "      <td>No</td>\n",
              "    </tr>\n",
              "    <tr>\n",
              "      <th>3668-QPYBK</th>\n",
              "      <td>Month-to-month</td>\n",
              "      <td>53.85</td>\n",
              "      <td>108.15</td>\n",
              "      <td>1</td>\n",
              "      <td>61</td>\n",
              "      <td>Male</td>\n",
              "      <td>No</td>\n",
              "      <td>No</td>\n",
              "      <td>DSL</td>\n",
              "      <td>Yes</td>\n",
              "      <td>Yes</td>\n",
              "      <td>No</td>\n",
              "      <td>No</td>\n",
              "      <td>No</td>\n",
              "      <td>No</td>\n",
              "      <td>No</td>\n",
              "    </tr>\n",
              "  </tbody>\n",
              "</table>\n",
              "</div>"
            ],
            "text/plain": [
              "                      Type  MonthlyCharges  TotalCharges  Churn  Period  \\\n",
              "customerID                                                                \n",
              "7590-VHVEG  Month-to-month           29.85         29.85      0      31   \n",
              "5575-GNVDE        One year           56.95       1889.50      0    1036   \n",
              "3668-QPYBK  Month-to-month           53.85        108.15      1      61   \n",
              "\n",
              "            gender Partner Dependents InternetService OnlineSecurity  \\\n",
              "customerID                                                             \n",
              "7590-VHVEG  Female     Yes         No             DSL             No   \n",
              "5575-GNVDE    Male      No         No             DSL            Yes   \n",
              "3668-QPYBK    Male      No         No             DSL            Yes   \n",
              "\n",
              "           OnlineBackup DeviceProtection TechSupport StreamingTV  \\\n",
              "customerID                                                         \n",
              "7590-VHVEG          Yes               No          No          No   \n",
              "5575-GNVDE           No              Yes          No          No   \n",
              "3668-QPYBK          Yes               No          No          No   \n",
              "\n",
              "           StreamingMovies MultipleLines  \n",
              "customerID                                \n",
              "7590-VHVEG              No            No  \n",
              "5575-GNVDE              No            No  \n",
              "3668-QPYBK              No            No  "
            ]
          },
          "execution_count": 63,
          "metadata": {},
          "output_type": "execute_result"
        }
      ],
      "execution_count": 63
    },
    {
      "cell_type": "code",
      "source": "print(data.corr())",
      "metadata": {},
      "outputs": [
        {
          "name": "stdout",
          "output_type": "stream",
          "text": [
            "                MonthlyCharges  TotalCharges     Churn    Period\n",
            "MonthlyCharges        1.000000      0.649332  0.194221  0.240287\n",
            "TotalCharges          0.649332      1.000000 -0.198302  0.824790\n",
            "Churn                 0.194221     -0.198302  1.000000 -0.354164\n",
            "Period                0.240287      0.824790 -0.354164  1.000000\n"
          ]
        }
      ],
      "execution_count": 64
    },
    {
      "cell_type": "code",
      "source": "print(sns.heatmap(data.corr(), annot=True));",
      "metadata": {},
      "outputs": [
        {
          "name": "stdout",
          "output_type": "stream",
          "text": [
            "AxesSubplot(0.125,0.125;0.62x0.755)\n"
          ]
        },
        {
          "data": {
            "image/png": "[encoded data removed]",
            "text/plain": [
              "<Figure size 432x288 with 2 Axes>"
            ]
          },
          "metadata": {
            "needs_background": "light"
          },
          "output_type": "display_data"
        }
      ],
      "execution_count": 65
    },
    {
      "cell_type": "code",
      "source": "data.drop(['TotalCharges'], axis= 1, inplace=True)",
      "metadata": {},
      "outputs": [],
      "execution_count": 66
    },
    {
      "cell_type": "code",
      "source": "data.groupby('gender')['Churn'].sum()",
      "metadata": {},
      "outputs": [
        {
          "data": {
            "text/plain": [
              "gender\n",
              "Female    928\n",
              "Male      923\n",
              "Name: Churn, dtype: int64"
            ]
          },
          "execution_count": 67,
          "metadata": {},
          "output_type": "execute_result"
        }
      ],
      "execution_count": 67
    },
    {
      "cell_type": "code",
      "source": "data.drop(['gender'], axis= 1, inplace=True)",
      "metadata": {},
      "outputs": [],
      "execution_count": 68
    },
    {
      "cell_type": "code",
      "source": "data['Churn'].value_counts()",
      "metadata": {},
      "outputs": [
        {
          "data": {
            "text/plain": [
              "0    5143\n",
              "1    1851\n",
              "Name: Churn, dtype: int64"
            ]
          },
          "execution_count": 69,
          "metadata": {},
          "output_type": "execute_result"
        }
      ],
      "execution_count": 69
    },
    {
      "cell_type": "code",
      "source": "data['Churn'].value_counts().plot(kind='bar',\n                                 grid=True,\n                                 figsize=(10, 5),\n                                 title='Дисбаланс классов');",
      "metadata": {},
      "outputs": [
        {
          "data": {
            "image/png": "[encoded data removed]",
            "text/plain": [
              "<Figure size 720x360 with 1 Axes>"
            ]
          },
          "metadata": {
            "needs_background": "light"
          },
          "output_type": "display_data"
        }
      ],
      "execution_count": 70
    },
    {
      "cell_type": "code",
      "source": "data['MonthlyCharges'].hist(figsize=(15, 10))\nplt.title('График распределения ежемесячных платежей среди пользователей')\nplt.xlabel('Сумма платежа')\nplt.ylabel('Количество пользователей');",
      "metadata": {},
      "outputs": [
        {
          "data": {
            "image/png": "[encoded data removed]",
            "text/plain": [
              "<Figure size 1080x720 with 1 Axes>"
            ]
          },
          "metadata": {
            "needs_background": "light"
          },
          "output_type": "display_data"
        }
      ],
      "execution_count": 71
    },
    {
      "cell_type": "code",
      "source": "plt.hist([data[data.Churn == 1].MonthlyCharges, data[data.Churn == 0].MonthlyCharges], \n         label=['Ушли', 'Действующие'], density=True);\nplt.legend();\nplt.title('Соотношение ежемесячных платежей у действующих и ушедших клиентов от оператора')\nplt.xlabel('Ежемесячные платежи')\nplt.ylabel('Количество пользователей');\nplt.show();",
      "metadata": {},
      "outputs": [
        {
          "data": {
            "image/png": "[encoded data removed]",
            "text/plain": [
              "<Figure size 432x288 with 1 Axes>"
            ]
          },
          "metadata": {
            "needs_background": "light"
          },
          "output_type": "display_data"
        }
      ],
      "execution_count": 72
    },
    {
      "cell_type": "markdown",
      "source": "##### **3. Подготовка данных к обучению.**",
      "metadata": {}
    },
    {
      "cell_type": "code",
      "source": "target = data['Churn']\nfeatures = data.drop('Churn', axis=1)",
      "metadata": {},
      "outputs": [],
      "execution_count": 73
    },
    {
      "cell_type": "code",
      "source": "features_train, features_test, target_train, target_test = train_test_split(\n    features, target, test_size=0.25, random_state=RANDOM_STATE)",
      "metadata": {},
      "outputs": [],
      "execution_count": 74
    },
    {
      "cell_type": "code",
      "source": "print(features_train.shape)\nprint(target_train.shape)\n",
      "metadata": {},
      "outputs": [
        {
          "name": "stdout",
          "output_type": "stream",
          "text": [
            "(5245, 13)\n",
            "(5245,)\n"
          ]
        }
      ],
      "execution_count": 75
    },
    {
      "cell_type": "code",
      "source": "print(features_test.shape)\nprint(target_test.shape)",
      "metadata": {},
      "outputs": [
        {
          "name": "stdout",
          "output_type": "stream",
          "text": [
            "(1749, 13)\n",
            "(1749,)\n"
          ]
        }
      ],
      "execution_count": 76
    },
    {
      "cell_type": "code",
      "source": "features_train.head(5)",
      "metadata": {},
      "outputs": [
        {
          "data": {
            "text/html": [
              "<div>\n",
              "<style scoped>\n",
              "    .dataframe tbody tr th:only-of-type {\n",
              "        vertical-align: middle;\n",
              "    }\n",
              "\n",
              "    .dataframe tbody tr th {\n",
              "        vertical-align: top;\n",
              "    }\n",
              "\n",
              "    .dataframe thead th {\n",
              "        text-align: right;\n",
              "    }\n",
              "</style>\n",
              "<table border=\"1\" class=\"dataframe\">\n",
              "  <thead>\n",
              "    <tr style=\"text-align: right;\">\n",
              "      <th></th>\n",
              "      <th>Type</th>\n",
              "      <th>MonthlyCharges</th>\n",
              "      <th>Period</th>\n",
              "      <th>Partner</th>\n",
              "      <th>Dependents</th>\n",
              "      <th>InternetService</th>\n",
              "      <th>OnlineSecurity</th>\n",
              "      <th>OnlineBackup</th>\n",
              "      <th>DeviceProtection</th>\n",
              "      <th>TechSupport</th>\n",
              "      <th>StreamingTV</th>\n",
              "      <th>StreamingMovies</th>\n",
              "      <th>MultipleLines</th>\n",
              "    </tr>\n",
              "    <tr>\n",
              "      <th>customerID</th>\n",
              "      <th></th>\n",
              "      <th></th>\n",
              "      <th></th>\n",
              "      <th></th>\n",
              "      <th></th>\n",
              "      <th></th>\n",
              "      <th></th>\n",
              "      <th></th>\n",
              "      <th></th>\n",
              "      <th></th>\n",
              "      <th></th>\n",
              "      <th></th>\n",
              "      <th></th>\n",
              "    </tr>\n",
              "  </thead>\n",
              "  <tbody>\n",
              "    <tr>\n",
              "      <th>7733-UDMTP</th>\n",
              "      <td>Month-to-month</td>\n",
              "      <td>55.00</td>\n",
              "      <td>1737</td>\n",
              "      <td>No</td>\n",
              "      <td>No</td>\n",
              "      <td>DSL</td>\n",
              "      <td>No</td>\n",
              "      <td>Yes</td>\n",
              "      <td>Yes</td>\n",
              "      <td>No</td>\n",
              "      <td>Yes</td>\n",
              "      <td>Yes</td>\n",
              "      <td>No</td>\n",
              "    </tr>\n",
              "    <tr>\n",
              "      <th>7721-JXEAW</th>\n",
              "      <td>Month-to-month</td>\n",
              "      <td>41.05</td>\n",
              "      <td>1796</td>\n",
              "      <td>Yes</td>\n",
              "      <td>No</td>\n",
              "      <td>DSL</td>\n",
              "      <td>No</td>\n",
              "      <td>Yes</td>\n",
              "      <td>No</td>\n",
              "      <td>No</td>\n",
              "      <td>No</td>\n",
              "      <td>Yes</td>\n",
              "      <td>No</td>\n",
              "    </tr>\n",
              "    <tr>\n",
              "      <th>0137-UDEUO</th>\n",
              "      <td>Month-to-month</td>\n",
              "      <td>19.85</td>\n",
              "      <td>92</td>\n",
              "      <td>No</td>\n",
              "      <td>No</td>\n",
              "      <td>No</td>\n",
              "      <td>No</td>\n",
              "      <td>No</td>\n",
              "      <td>No</td>\n",
              "      <td>No</td>\n",
              "      <td>No</td>\n",
              "      <td>No</td>\n",
              "      <td>No</td>\n",
              "    </tr>\n",
              "    <tr>\n",
              "      <th>0869-PAPRP</th>\n",
              "      <td>Month-to-month</td>\n",
              "      <td>85.70</td>\n",
              "      <td>792</td>\n",
              "      <td>Yes</td>\n",
              "      <td>No</td>\n",
              "      <td>Fiber optic</td>\n",
              "      <td>No</td>\n",
              "      <td>No</td>\n",
              "      <td>Yes</td>\n",
              "      <td>No</td>\n",
              "      <td>Yes</td>\n",
              "      <td>No</td>\n",
              "      <td>No</td>\n",
              "    </tr>\n",
              "    <tr>\n",
              "      <th>5940-NFXKV</th>\n",
              "      <td>Month-to-month</td>\n",
              "      <td>83.65</td>\n",
              "      <td>579</td>\n",
              "      <td>Yes</td>\n",
              "      <td>Yes</td>\n",
              "      <td>Fiber optic</td>\n",
              "      <td>No</td>\n",
              "      <td>No</td>\n",
              "      <td>No</td>\n",
              "      <td>No</td>\n",
              "      <td>No</td>\n",
              "      <td>Yes</td>\n",
              "      <td>Yes</td>\n",
              "    </tr>\n",
              "  </tbody>\n",
              "</table>\n",
              "</div>"
            ],
            "text/plain": [
              "                      Type  MonthlyCharges  Period Partner Dependents  \\\n",
              "customerID                                                              \n",
              "7733-UDMTP  Month-to-month           55.00    1737      No         No   \n",
              "7721-JXEAW  Month-to-month           41.05    1796     Yes         No   \n",
              "0137-UDEUO  Month-to-month           19.85      92      No         No   \n",
              "0869-PAPRP  Month-to-month           85.70     792     Yes         No   \n",
              "5940-NFXKV  Month-to-month           83.65     579     Yes        Yes   \n",
              "\n",
              "           InternetService OnlineSecurity OnlineBackup DeviceProtection  \\\n",
              "customerID                                                                \n",
              "7733-UDMTP             DSL             No          Yes              Yes   \n",
              "7721-JXEAW             DSL             No          Yes               No   \n",
              "0137-UDEUO              No             No           No               No   \n",
              "0869-PAPRP     Fiber optic             No           No              Yes   \n",
              "5940-NFXKV     Fiber optic             No           No               No   \n",
              "\n",
              "           TechSupport StreamingTV StreamingMovies MultipleLines  \n",
              "customerID                                                        \n",
              "7733-UDMTP          No         Yes             Yes            No  \n",
              "7721-JXEAW          No          No             Yes            No  \n",
              "0137-UDEUO          No          No              No            No  \n",
              "0869-PAPRP          No         Yes              No            No  \n",
              "5940-NFXKV          No          No             Yes           Yes  "
            ]
          },
          "execution_count": 77,
          "metadata": {},
          "output_type": "execute_result"
        }
      ],
      "execution_count": 77
    },
    {
      "cell_type": "code",
      "source": "encoder = OrdinalEncoder(handle_unknown='use_encoded_value', unknown_value=9999)\nforest_columns = ['Type', 'Partner', 'Dependents', 'InternetService', 'OnlineSecurity', 'OnlineBackup', 'DeviceProtection',\n               'TechSupport', 'StreamingTV', 'StreamingMovies', 'MultipleLines']\nencoder.fit(features_train[forest_columns])\n\nfeatures_train_ord = features_train.copy()\nfeatures_test_ord = features_test.copy()\n\nfeatures_train_ord[forest_columns] = encoder.transform(features_train_ord[forest_columns])\nfeatures_test_ord[forest_columns] = encoder.transform(features_test_ord[forest_columns])",
      "metadata": {},
      "outputs": [],
      "execution_count": 78
    },
    {
      "cell_type": "code",
      "source": "numeric = ['MonthlyCharges', 'Period']\n\npd.options.mode.chained_assignment = None\nscaler = StandardScaler()\nscaler.fit(features_train_ord[numeric])\nfeatures_train_ord[numeric] = scaler.transform(features_train_ord[numeric])\nfeatures_test_ord[numeric] = scaler.transform(features_test_ord[numeric])",
      "metadata": {},
      "outputs": [],
      "execution_count": 79
    },
    {
      "cell_type": "code",
      "source": "features_train_ord.head(5)",
      "metadata": {},
      "outputs": [
        {
          "data": {
            "text/html": [
              "<div>\n",
              "<style scoped>\n",
              "    .dataframe tbody tr th:only-of-type {\n",
              "        vertical-align: middle;\n",
              "    }\n",
              "\n",
              "    .dataframe tbody tr th {\n",
              "        vertical-align: top;\n",
              "    }\n",
              "\n",
              "    .dataframe thead th {\n",
              "        text-align: right;\n",
              "    }\n",
              "</style>\n",
              "<table border=\"1\" class=\"dataframe\">\n",
              "  <thead>\n",
              "    <tr style=\"text-align: right;\">\n",
              "      <th></th>\n",
              "      <th>Type</th>\n",
              "      <th>MonthlyCharges</th>\n",
              "      <th>Period</th>\n",
              "      <th>Partner</th>\n",
              "      <th>Dependents</th>\n",
              "      <th>InternetService</th>\n",
              "      <th>OnlineSecurity</th>\n",
              "      <th>OnlineBackup</th>\n",
              "      <th>DeviceProtection</th>\n",
              "      <th>TechSupport</th>\n",
              "      <th>StreamingTV</th>\n",
              "      <th>StreamingMovies</th>\n",
              "      <th>MultipleLines</th>\n",
              "    </tr>\n",
              "    <tr>\n",
              "      <th>customerID</th>\n",
              "      <th></th>\n",
              "      <th></th>\n",
              "      <th></th>\n",
              "      <th></th>\n",
              "      <th></th>\n",
              "      <th></th>\n",
              "      <th></th>\n",
              "      <th></th>\n",
              "      <th></th>\n",
              "      <th></th>\n",
              "      <th></th>\n",
              "      <th></th>\n",
              "      <th></th>\n",
              "    </tr>\n",
              "  </thead>\n",
              "  <tbody>\n",
              "    <tr>\n",
              "      <th>7733-UDMTP</th>\n",
              "      <td>0.0</td>\n",
              "      <td>-0.326225</td>\n",
              "      <td>1.005521</td>\n",
              "      <td>0.0</td>\n",
              "      <td>0.0</td>\n",
              "      <td>0.0</td>\n",
              "      <td>0.0</td>\n",
              "      <td>1.0</td>\n",
              "      <td>1.0</td>\n",
              "      <td>0.0</td>\n",
              "      <td>1.0</td>\n",
              "      <td>1.0</td>\n",
              "      <td>0.0</td>\n",
              "    </tr>\n",
              "    <tr>\n",
              "      <th>7721-JXEAW</th>\n",
              "      <td>0.0</td>\n",
              "      <td>-0.791805</td>\n",
              "      <td>1.084669</td>\n",
              "      <td>1.0</td>\n",
              "      <td>0.0</td>\n",
              "      <td>0.0</td>\n",
              "      <td>0.0</td>\n",
              "      <td>1.0</td>\n",
              "      <td>0.0</td>\n",
              "      <td>0.0</td>\n",
              "      <td>0.0</td>\n",
              "      <td>1.0</td>\n",
              "      <td>0.0</td>\n",
              "    </tr>\n",
              "    <tr>\n",
              "      <th>0137-UDEUO</th>\n",
              "      <td>0.0</td>\n",
              "      <td>-1.499353</td>\n",
              "      <td>-1.201226</td>\n",
              "      <td>0.0</td>\n",
              "      <td>0.0</td>\n",
              "      <td>2.0</td>\n",
              "      <td>0.0</td>\n",
              "      <td>0.0</td>\n",
              "      <td>0.0</td>\n",
              "      <td>0.0</td>\n",
              "      <td>0.0</td>\n",
              "      <td>0.0</td>\n",
              "      <td>0.0</td>\n",
              "    </tr>\n",
              "    <tr>\n",
              "      <th>0869-PAPRP</th>\n",
              "      <td>0.0</td>\n",
              "      <td>0.698385</td>\n",
              "      <td>-0.262184</td>\n",
              "      <td>1.0</td>\n",
              "      <td>0.0</td>\n",
              "      <td>1.0</td>\n",
              "      <td>0.0</td>\n",
              "      <td>0.0</td>\n",
              "      <td>1.0</td>\n",
              "      <td>0.0</td>\n",
              "      <td>1.0</td>\n",
              "      <td>0.0</td>\n",
              "      <td>0.0</td>\n",
              "    </tr>\n",
              "    <tr>\n",
              "      <th>5940-NFXKV</th>\n",
              "      <td>0.0</td>\n",
              "      <td>0.629966</td>\n",
              "      <td>-0.547921</td>\n",
              "      <td>1.0</td>\n",
              "      <td>1.0</td>\n",
              "      <td>1.0</td>\n",
              "      <td>0.0</td>\n",
              "      <td>0.0</td>\n",
              "      <td>0.0</td>\n",
              "      <td>0.0</td>\n",
              "      <td>0.0</td>\n",
              "      <td>1.0</td>\n",
              "      <td>1.0</td>\n",
              "    </tr>\n",
              "  </tbody>\n",
              "</table>\n",
              "</div>"
            ],
            "text/plain": [
              "            Type  MonthlyCharges    Period  Partner  Dependents  \\\n",
              "customerID                                                        \n",
              "7733-UDMTP   0.0       -0.326225  1.005521      0.0         0.0   \n",
              "7721-JXEAW   0.0       -0.791805  1.084669      1.0         0.0   \n",
              "0137-UDEUO   0.0       -1.499353 -1.201226      0.0         0.0   \n",
              "0869-PAPRP   0.0        0.698385 -0.262184      1.0         0.0   \n",
              "5940-NFXKV   0.0        0.629966 -0.547921      1.0         1.0   \n",
              "\n",
              "            InternetService  OnlineSecurity  OnlineBackup  DeviceProtection  \\\n",
              "customerID                                                                    \n",
              "7733-UDMTP              0.0             0.0           1.0               1.0   \n",
              "7721-JXEAW              0.0             0.0           1.0               0.0   \n",
              "0137-UDEUO              2.0             0.0           0.0               0.0   \n",
              "0869-PAPRP              1.0             0.0           0.0               1.0   \n",
              "5940-NFXKV              1.0             0.0           0.0               0.0   \n",
              "\n",
              "            TechSupport  StreamingTV  StreamingMovies  MultipleLines  \n",
              "customerID                                                            \n",
              "7733-UDMTP          0.0          1.0              1.0            0.0  \n",
              "7721-JXEAW          0.0          0.0              1.0            0.0  \n",
              "0137-UDEUO          0.0          0.0              0.0            0.0  \n",
              "0869-PAPRP          0.0          1.0              0.0            0.0  \n",
              "5940-NFXKV          0.0          0.0              1.0            1.0  "
            ]
          },
          "execution_count": 80,
          "metadata": {},
          "output_type": "execute_result"
        }
      ],
      "execution_count": 80
    },
    {
      "cell_type": "code",
      "source": "onehotencoder = OneHotEncoder()\nline_columns = ['Type', 'Partner', 'Dependents', 'InternetService', 'OnlineSecurity', 'OnlineBackup', 'DeviceProtection',\n               'TechSupport', 'StreamingTV', 'StreamingMovies', 'MultipleLines']\nonehotencoder.fit_transform(features_train[line_columns])\nfeatures_train_ohe = features_train.copy()\nfeatures_test_ohe = features_test.copy()\nfeatures_train_ohe[line_columns] = encoder.transform(features_train_ohe[line_columns])\nfeatures_test_ohe[line_columns] = encoder.transform(features_test_ohe[line_columns])",
      "metadata": {},
      "outputs": [],
      "execution_count": 81
    },
    {
      "cell_type": "code",
      "source": "features_train_ohe.head(5)",
      "metadata": {},
      "outputs": [
        {
          "data": {
            "text/html": [
              "<div>\n",
              "<style scoped>\n",
              "    .dataframe tbody tr th:only-of-type {\n",
              "        vertical-align: middle;\n",
              "    }\n",
              "\n",
              "    .dataframe tbody tr th {\n",
              "        vertical-align: top;\n",
              "    }\n",
              "\n",
              "    .dataframe thead th {\n",
              "        text-align: right;\n",
              "    }\n",
              "</style>\n",
              "<table border=\"1\" class=\"dataframe\">\n",
              "  <thead>\n",
              "    <tr style=\"text-align: right;\">\n",
              "      <th></th>\n",
              "      <th>Type</th>\n",
              "      <th>MonthlyCharges</th>\n",
              "      <th>Period</th>\n",
              "      <th>Partner</th>\n",
              "      <th>Dependents</th>\n",
              "      <th>InternetService</th>\n",
              "      <th>OnlineSecurity</th>\n",
              "      <th>OnlineBackup</th>\n",
              "      <th>DeviceProtection</th>\n",
              "      <th>TechSupport</th>\n",
              "      <th>StreamingTV</th>\n",
              "      <th>StreamingMovies</th>\n",
              "      <th>MultipleLines</th>\n",
              "    </tr>\n",
              "    <tr>\n",
              "      <th>customerID</th>\n",
              "      <th></th>\n",
              "      <th></th>\n",
              "      <th></th>\n",
              "      <th></th>\n",
              "      <th></th>\n",
              "      <th></th>\n",
              "      <th></th>\n",
              "      <th></th>\n",
              "      <th></th>\n",
              "      <th></th>\n",
              "      <th></th>\n",
              "      <th></th>\n",
              "      <th></th>\n",
              "    </tr>\n",
              "  </thead>\n",
              "  <tbody>\n",
              "    <tr>\n",
              "      <th>7733-UDMTP</th>\n",
              "      <td>0.0</td>\n",
              "      <td>55.00</td>\n",
              "      <td>1737</td>\n",
              "      <td>0.0</td>\n",
              "      <td>0.0</td>\n",
              "      <td>0.0</td>\n",
              "      <td>0.0</td>\n",
              "      <td>1.0</td>\n",
              "      <td>1.0</td>\n",
              "      <td>0.0</td>\n",
              "      <td>1.0</td>\n",
              "      <td>1.0</td>\n",
              "      <td>0.0</td>\n",
              "    </tr>\n",
              "    <tr>\n",
              "      <th>7721-JXEAW</th>\n",
              "      <td>0.0</td>\n",
              "      <td>41.05</td>\n",
              "      <td>1796</td>\n",
              "      <td>1.0</td>\n",
              "      <td>0.0</td>\n",
              "      <td>0.0</td>\n",
              "      <td>0.0</td>\n",
              "      <td>1.0</td>\n",
              "      <td>0.0</td>\n",
              "      <td>0.0</td>\n",
              "      <td>0.0</td>\n",
              "      <td>1.0</td>\n",
              "      <td>0.0</td>\n",
              "    </tr>\n",
              "    <tr>\n",
              "      <th>0137-UDEUO</th>\n",
              "      <td>0.0</td>\n",
              "      <td>19.85</td>\n",
              "      <td>92</td>\n",
              "      <td>0.0</td>\n",
              "      <td>0.0</td>\n",
              "      <td>2.0</td>\n",
              "      <td>0.0</td>\n",
              "      <td>0.0</td>\n",
              "      <td>0.0</td>\n",
              "      <td>0.0</td>\n",
              "      <td>0.0</td>\n",
              "      <td>0.0</td>\n",
              "      <td>0.0</td>\n",
              "    </tr>\n",
              "    <tr>\n",
              "      <th>0869-PAPRP</th>\n",
              "      <td>0.0</td>\n",
              "      <td>85.70</td>\n",
              "      <td>792</td>\n",
              "      <td>1.0</td>\n",
              "      <td>0.0</td>\n",
              "      <td>1.0</td>\n",
              "      <td>0.0</td>\n",
              "      <td>0.0</td>\n",
              "      <td>1.0</td>\n",
              "      <td>0.0</td>\n",
              "      <td>1.0</td>\n",
              "      <td>0.0</td>\n",
              "      <td>0.0</td>\n",
              "    </tr>\n",
              "    <tr>\n",
              "      <th>5940-NFXKV</th>\n",
              "      <td>0.0</td>\n",
              "      <td>83.65</td>\n",
              "      <td>579</td>\n",
              "      <td>1.0</td>\n",
              "      <td>1.0</td>\n",
              "      <td>1.0</td>\n",
              "      <td>0.0</td>\n",
              "      <td>0.0</td>\n",
              "      <td>0.0</td>\n",
              "      <td>0.0</td>\n",
              "      <td>0.0</td>\n",
              "      <td>1.0</td>\n",
              "      <td>1.0</td>\n",
              "    </tr>\n",
              "  </tbody>\n",
              "</table>\n",
              "</div>"
            ],
            "text/plain": [
              "            Type  MonthlyCharges  Period  Partner  Dependents  \\\n",
              "customerID                                                      \n",
              "7733-UDMTP   0.0           55.00    1737      0.0         0.0   \n",
              "7721-JXEAW   0.0           41.05    1796      1.0         0.0   \n",
              "0137-UDEUO   0.0           19.85      92      0.0         0.0   \n",
              "0869-PAPRP   0.0           85.70     792      1.0         0.0   \n",
              "5940-NFXKV   0.0           83.65     579      1.0         1.0   \n",
              "\n",
              "            InternetService  OnlineSecurity  OnlineBackup  DeviceProtection  \\\n",
              "customerID                                                                    \n",
              "7733-UDMTP              0.0             0.0           1.0               1.0   \n",
              "7721-JXEAW              0.0             0.0           1.0               0.0   \n",
              "0137-UDEUO              2.0             0.0           0.0               0.0   \n",
              "0869-PAPRP              1.0             0.0           0.0               1.0   \n",
              "5940-NFXKV              1.0             0.0           0.0               0.0   \n",
              "\n",
              "            TechSupport  StreamingTV  StreamingMovies  MultipleLines  \n",
              "customerID                                                            \n",
              "7733-UDMTP          0.0          1.0              1.0            0.0  \n",
              "7721-JXEAW          0.0          0.0              1.0            0.0  \n",
              "0137-UDEUO          0.0          0.0              0.0            0.0  \n",
              "0869-PAPRP          0.0          1.0              0.0            0.0  \n",
              "5940-NFXKV          0.0          0.0              1.0            1.0  "
            ]
          },
          "execution_count": 82,
          "metadata": {},
          "output_type": "execute_result"
        }
      ],
      "execution_count": 82
    },
    {
      "cell_type": "code",
      "source": "numeric = ['MonthlyCharges', 'Period']\n\npd.options.mode.chained_assignment = None\nscaler = StandardScaler()\nscaler.fit(features_train_ohe[numeric])\nfeatures_train_ohe[numeric] = scaler.transform(features_train_ohe[numeric])\nfeatures_test_ohe[numeric] = scaler.transform(features_test_ohe[numeric])",
      "metadata": {},
      "outputs": [],
      "execution_count": 83
    },
    {
      "cell_type": "markdown",
      "source": "##### **4. Обучение**",
      "metadata": {}
    },
    {
      "cell_type": "markdown",
      "source": "##### **LogisticRegression**",
      "metadata": {}
    },
    {
      "cell_type": "code",
      "source": "%%time\n\nmodel_lr = LogisticRegression(random_state=RANDOM_STATE, solver='liblinear', class_weight='balanced')\nparamets = {'max_iter': range(100, 200, 300)}\ngrid_lr = GridSearchCV(model_lr, paramets, scoring='roc_auc', cv=5)                           \ngrid_lr.fit(features_train_ohe, target_train)\ngrid_lr.best_score_\n",
      "metadata": {},
      "outputs": [
        {
          "name": "stdout",
          "output_type": "stream",
          "text": [
            "CPU times: user 277 ms, sys: 313 ms, total: 590 ms\n",
            "Wall time: 481 ms\n"
          ]
        },
        {
          "data": {
            "text/plain": [
              "0.8344003105067245"
            ]
          },
          "execution_count": 84,
          "metadata": {},
          "output_type": "execute_result"
        }
      ],
      "execution_count": 84
    },
    {
      "cell_type": "markdown",
      "source": "##### **RandomForestClassifier**",
      "metadata": {}
    },
    {
      "cell_type": "code",
      "source": "%%time\n\nforest_model = RandomForestClassifier(random_state=RANDOM_STATE, class_weight='balanced')\n\nforest_param = { 'n_estimators': range(100, 150, 500),\n                     'max_depth': range(5, 7, 12),\n                     'min_samples_leaf': range(1, 3, 7),\n                     'min_samples_split': range(2, 4, 10)}\n\n# GridSearchCV с кросс-валидацией\n\nforest_grid = GridSearchCV(forest_model, forest_param, scoring='roc_auc', cv=5)\nforest_grid.fit(features_train_ord, target_train)\nforest_grid.best_score_\n",
      "metadata": {},
      "outputs": [
        {
          "name": "stdout",
          "output_type": "stream",
          "text": [
            "CPU times: user 1.33 s, sys: 11 ms, total: 1.34 s\n",
            "Wall time: 1.34 s\n"
          ]
        },
        {
          "data": {
            "text/plain": [
              "0.8504564074746076"
            ]
          },
          "execution_count": 85,
          "metadata": {},
          "output_type": "execute_result"
        }
      ],
      "execution_count": 85
    },
    {
      "cell_type": "markdown",
      "source": "##### **CatBoostClassifier**",
      "metadata": {}
    },
    {
      "cell_type": "code",
      "source": "%%time\n\n\ncat = CatBoostClassifier(random_state=RANDOM_STATE)\ncat_param = {'iterations': [100, 200, 300],\n                'learning_rate': [0.03, 0.1],\n                'depth': [5, 7, 10]}\ncat_grid = GridSearchCV(cat, cat_param, scoring='roc_auc', cv=5)\ncat_grid.fit(features_train_ord, target_train, verbose=False)\n\ncat_grid.best_score_\n",
      "metadata": {},
      "outputs": [
        {
          "name": "stdout",
          "output_type": "stream",
          "text": [
            "CPU times: user 1min 20s, sys: 1.68 s, total: 1min 21s\n",
            "Wall time: 2min 40s\n"
          ]
        },
        {
          "data": {
            "text/plain": [
              "0.9168188024915359"
            ]
          },
          "execution_count": 86,
          "metadata": {},
          "output_type": "execute_result"
        }
      ],
      "execution_count": 86
    },
    {
      "cell_type": "code",
      "source": "# таблица результатов обучения моделей\n\nanalis = {'Model' : ['LogisticRegression', 'RandomForestClassifier', 'CatBoostClassifier'],\n    'roc_auc_train' :pd.Series([0.834, 0.850, 0.917]),    \n    'Time.fit (ms)': pd.Series([481, 94, 9600])}\nprint(pd.DataFrame(analis))",
      "metadata": {},
      "outputs": [
        {
          "name": "stdout",
          "output_type": "stream",
          "text": [
            "                    Model  roc_auc_train  Time.fit (ms)\n",
            "0      LogisticRegression          0.834            481\n",
            "1  RandomForestClassifier          0.850             94\n",
            "2      CatBoostClassifier          0.917           9600\n"
          ]
        }
      ],
      "execution_count": 87
    },
    {
      "cell_type": "markdown",
      "source": "##### **5. Тестирование**",
      "metadata": {}
    },
    {
      "cell_type": "code",
      "source": "%%time\n\n# проверка модели CatBoostClassifier на тестовой выборке\n\ncat = CatBoostClassifier(random_state=RANDOM_STATE)\ncat.fit(features_train_ord, target_train, verbose=False)\npred_cat = cat.predict_proba(features_test_ord)[:, 1]\nroc_auc = roc_auc_score(target_test, pred_cat)\nfpr_test, tpr_test, thresholds = roc_curve(target_test, pred_cat)\n\nprint(roc_auc)",
      "metadata": {},
      "outputs": [
        {
          "name": "stdout",
          "output_type": "stream",
          "text": [
            "0.908514780607415\n",
            "CPU times: user 1.83 s, sys: 101 ms, total: 1.93 s\n",
            "Wall time: 2.95 s\n"
          ]
        }
      ],
      "execution_count": 88
    },
    {
      "cell_type": "code",
      "source": "plot_confusion_matrix(estimator=cat, X=features_test_ord, y_true=target_test,\n                      normalize='true', cmap='Greens');",
      "metadata": {},
      "outputs": [
        {
          "data": {
            "image/png": "[encoded data removed]",
            "text/plain": [
              "<Figure size 432x288 with 2 Axes>"
            ]
          },
          "metadata": {
            "needs_background": "light"
          },
          "output_type": "display_data"
        }
      ],
      "execution_count": 90
    },
    {
      "cell_type": "code",
      "source": "fpr_test, tpr_test, thresholds = roc_curve(target_test, pred_cat)\nplt.figure()\n\nplt.figure(figsize=(10, 7))\nplt.plot([0, 1], [0, 1], linestyle='--')\nplt.xlim([0.0, 1.0])\nplt.ylim([0.0, 1.0])\n\nplt.plot(fpr_test, tpr_test)\nplt.xlabel('False Positive Rate')\nplt.ylabel('True Positive Rate')\nplt.title('ROC-кривая')\nplt.legend(('Random model', 'CatBoostClassifier'),\n           loc='upper left') \nplt.show();\n",
      "metadata": {},
      "outputs": [
        {
          "data": {
            "text/plain": [
              "<Figure size 432x288 with 0 Axes>"
            ]
          },
          "metadata": {},
          "output_type": "display_data"
        },
        {
          "data": {
            "image/png": "[encoded data removed]",
            "text/plain": [
              "<Figure size 720x504 with 1 Axes>"
            ]
          },
          "metadata": {
            "needs_background": "light"
          },
          "output_type": "display_data"
        }
      ],
      "execution_count": 91
    },
    {
      "cell_type": "code",
      "source": "data = Pool(features_train_ord, target_train)\nfeatures = cat.get_feature_importance(data, prettified = True)\nprint(features)",
      "metadata": {},
      "outputs": [
        {
          "name": "stdout",
          "output_type": "stream",
          "text": [
            "          Feature Id  Importances\n",
            "0             Period    58.503231\n",
            "1     MonthlyCharges    12.676753\n",
            "2               Type    10.922291\n",
            "3    InternetService     5.565824\n",
            "4      MultipleLines     2.371553\n",
            "5        StreamingTV     1.594644\n",
            "6        TechSupport     1.508727\n",
            "7    StreamingMovies     1.449493\n",
            "8     OnlineSecurity     1.400081\n",
            "9         Dependents     1.245814\n",
            "10      OnlineBackup     1.077902\n",
            "11           Partner     0.981518\n",
            "12  DeviceProtection     0.702169\n"
          ]
        }
      ],
      "execution_count": 92
    },
    {
      "cell_type": "code",
      "source": "sns.barplot(y=features['Feature Id'], x=features['Importances']);\nplt.title('Важность признаков')\n\nplt.show();",
      "metadata": {},
      "outputs": [
        {
          "data": {
            "image/png": "[encoded data removed]",
            "text/plain": [
              "<Figure size 432x288 with 1 Axes>"
            ]
          },
          "metadata": {
            "needs_background": "light"
          },
          "output_type": "display_data"
        }
      ],
      "execution_count": 93
    },
    {
      "cell_type": "code",
      "source": "# таблица результатов обучения моделей\n\nanalis = {'Model' : ['LogisticRegression', 'RandomForestClassifier', 'CatBoostClassifier'],\n    'roc_auc_train' :pd.Series([0.834, 0.850, 0.917]),    \n    'Time.fit (ms)': pd.Series([481, 94, 9600])}\nprint(pd.DataFrame(analis))",
      "metadata": {},
      "outputs": [
        {
          "name": "stdout",
          "output_type": "stream",
          "text": [
            "                    Model  roc_auc_train  Time.fit (ms)\n",
            "0      LogisticRegression          0.834            481\n",
            "1  RandomForestClassifier          0.850             94\n",
            "2      CatBoostClassifier          0.917           9600\n"
          ]
        }
      ],
      "execution_count": 94
    },
    {
      "cell_type": "code",
      "source": "# гиперпараметры лучшей модели CatBoostClassifier\n\nbest_parametr = cat_grid.best_params_\nprint(best_parametr)",
      "metadata": {},
      "outputs": [
        {
          "name": "stdout",
          "output_type": "stream",
          "text": [
            "{'depth': 5, 'iterations': 300, 'learning_rate': 0.1}\n"
          ]
        }
      ],
      "execution_count": 97
    }
  ]
}