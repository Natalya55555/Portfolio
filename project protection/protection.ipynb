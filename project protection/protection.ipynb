{
  "metadata": {
    "kernelspec": {
      "name": "python",
      "display_name": "Python (Pyodide)",
      "language": "python"
    },
    "language_info": {
      "codemirror_mode": {
        "name": "python",
        "version": 3
      },
      "file_extension": ".py",
      "mimetype": "text/x-python",
      "name": "python",
      "nbconvert_exporter": "python",
      "pygments_lexer": "ipython3",
      "version": "3.8"
    },
    "ExecuteTimeLog": [
      {
        "duration": 419,
        "start_time": "2023-04-15T10:19:47.903Z"
      },
      {
        "duration": 97,
        "start_time": "2023-04-15T10:19:48.902Z"
      },
      {
        "duration": 13,
        "start_time": "2023-04-15T10:19:49.723Z"
      },
      {
        "duration": 17,
        "start_time": "2023-04-15T10:20:10.320Z"
      },
      {
        "duration": 8,
        "start_time": "2023-04-15T10:21:01.423Z"
      },
      {
        "duration": 6,
        "start_time": "2023-04-15T10:22:08.093Z"
      },
      {
        "duration": 5,
        "start_time": "2023-04-15T10:22:59.073Z"
      },
      {
        "duration": 5,
        "start_time": "2023-04-15T10:23:27.665Z"
      },
      {
        "duration": 12,
        "start_time": "2023-04-15T11:10:06.822Z"
      },
      {
        "duration": 69,
        "start_time": "2023-04-15T11:11:08.391Z"
      },
      {
        "duration": 944,
        "start_time": "2023-04-15T11:11:22.573Z"
      },
      {
        "duration": 27,
        "start_time": "2023-04-15T11:11:24.989Z"
      },
      {
        "duration": 12,
        "start_time": "2023-04-15T11:11:25.201Z"
      },
      {
        "duration": 11,
        "start_time": "2023-04-15T11:11:25.410Z"
      },
      {
        "duration": 5,
        "start_time": "2023-04-15T11:11:25.632Z"
      },
      {
        "duration": 11,
        "start_time": "2023-04-15T11:11:25.832Z"
      },
      {
        "duration": 409,
        "start_time": "2023-04-15T11:11:26.240Z"
      },
      {
        "duration": 44,
        "start_time": "2023-04-15T11:15:32.158Z"
      },
      {
        "duration": 370,
        "start_time": "2023-04-15T11:16:01.807Z"
      },
      {
        "duration": 11,
        "start_time": "2023-04-15T11:16:41.450Z"
      },
      {
        "duration": 4,
        "start_time": "2023-04-15T11:31:54.045Z"
      },
      {
        "duration": 29,
        "start_time": "2023-04-15T11:31:54.766Z"
      },
      {
        "duration": 12,
        "start_time": "2023-04-15T11:31:55.005Z"
      },
      {
        "duration": 9,
        "start_time": "2023-04-15T11:31:55.224Z"
      },
      {
        "duration": 6,
        "start_time": "2023-04-15T11:31:55.455Z"
      },
      {
        "duration": 12,
        "start_time": "2023-04-15T11:31:56.136Z"
      },
      {
        "duration": 393,
        "start_time": "2023-04-15T11:31:56.635Z"
      },
      {
        "duration": 440,
        "start_time": "2023-04-15T11:33:10.905Z"
      },
      {
        "duration": 401,
        "start_time": "2023-04-15T11:33:27.825Z"
      },
      {
        "duration": 426,
        "start_time": "2023-04-15T11:33:56.297Z"
      },
      {
        "duration": 4539,
        "start_time": "2023-04-15T11:34:32.225Z"
      },
      {
        "duration": 4065,
        "start_time": "2023-04-15T11:35:53.225Z"
      },
      {
        "duration": 821,
        "start_time": "2023-04-15T11:36:40.815Z"
      },
      {
        "duration": 3654,
        "start_time": "2023-04-15T11:36:49.475Z"
      },
      {
        "duration": 14,
        "start_time": "2023-04-15T11:42:47.315Z"
      },
      {
        "duration": 14,
        "start_time": "2023-04-15T11:43:00.896Z"
      },
      {
        "duration": 689,
        "start_time": "2023-04-15T11:43:58.144Z"
      },
      {
        "duration": 11,
        "start_time": "2023-04-15T11:45:07.355Z"
      },
      {
        "duration": 824,
        "start_time": "2023-04-15T11:45:36.625Z"
      },
      {
        "duration": 787,
        "start_time": "2023-04-15T11:46:00.774Z"
      },
      {
        "duration": 16,
        "start_time": "2023-04-15T11:46:20.983Z"
      },
      {
        "duration": 11,
        "start_time": "2023-04-15T11:49:16.813Z"
      },
      {
        "duration": 12,
        "start_time": "2023-04-15T11:50:55.196Z"
      },
      {
        "duration": 12,
        "start_time": "2023-04-15T11:51:10.524Z"
      },
      {
        "duration": 21,
        "start_time": "2023-04-15T11:51:28.778Z"
      },
      {
        "duration": 9,
        "start_time": "2023-04-15T11:52:31.763Z"
      },
      {
        "duration": 787,
        "start_time": "2023-04-15T11:52:40.482Z"
      },
      {
        "duration": 3,
        "start_time": "2023-04-15T11:53:04.674Z"
      },
      {
        "duration": 26,
        "start_time": "2023-04-15T11:53:05.703Z"
      },
      {
        "duration": 10,
        "start_time": "2023-04-15T11:53:06.300Z"
      },
      {
        "duration": 4,
        "start_time": "2023-04-15T11:53:06.855Z"
      },
      {
        "duration": 12,
        "start_time": "2023-04-15T11:53:08.513Z"
      },
      {
        "duration": 6,
        "start_time": "2023-04-15T11:53:12.077Z"
      },
      {
        "duration": 15,
        "start_time": "2023-04-15T11:53:19.583Z"
      },
      {
        "duration": 390,
        "start_time": "2023-04-15T11:53:21.032Z"
      },
      {
        "duration": 306,
        "start_time": "2023-04-15T11:53:21.703Z"
      },
      {
        "duration": 15,
        "start_time": "2023-04-15T11:54:09.800Z"
      },
      {
        "duration": 900,
        "start_time": "2023-04-15T11:54:21.042Z"
      },
      {
        "duration": 858,
        "start_time": "2023-04-15T11:55:58.297Z"
      },
      {
        "duration": 226,
        "start_time": "2023-04-15T11:56:06.123Z"
      },
      {
        "duration": 123,
        "start_time": "2023-04-15T11:58:04.191Z"
      },
      {
        "duration": 272,
        "start_time": "2023-04-15T11:59:01.776Z"
      },
      {
        "duration": 718,
        "start_time": "2023-04-15T11:59:23.962Z"
      },
      {
        "duration": 903,
        "start_time": "2023-04-15T12:00:26.442Z"
      },
      {
        "duration": 835,
        "start_time": "2023-04-15T12:00:40.382Z"
      },
      {
        "duration": 260,
        "start_time": "2023-04-15T12:02:40.684Z"
      },
      {
        "duration": 257,
        "start_time": "2023-04-15T12:03:14.996Z"
      },
      {
        "duration": 218,
        "start_time": "2023-04-15T12:03:51.243Z"
      },
      {
        "duration": 227,
        "start_time": "2023-04-15T12:04:17.231Z"
      },
      {
        "duration": 21,
        "start_time": "2023-04-15T12:05:59.945Z"
      },
      {
        "duration": 312,
        "start_time": "2023-04-15T12:07:04.772Z"
      },
      {
        "duration": 210,
        "start_time": "2023-04-15T12:07:12.914Z"
      },
      {
        "duration": 200,
        "start_time": "2023-04-15T12:07:22.544Z"
      },
      {
        "duration": 180,
        "start_time": "2023-04-15T12:07:31.484Z"
      },
      {
        "duration": 376,
        "start_time": "2023-04-15T12:07:44.225Z"
      },
      {
        "duration": 296,
        "start_time": "2023-04-15T12:08:09.132Z"
      },
      {
        "duration": 151,
        "start_time": "2023-04-15T12:09:05.299Z"
      },
      {
        "duration": 173,
        "start_time": "2023-04-15T12:25:52.533Z"
      },
      {
        "duration": 87,
        "start_time": "2023-04-15T12:27:56.633Z"
      },
      {
        "duration": 10,
        "start_time": "2023-04-15T12:28:04.803Z"
      },
      {
        "duration": 18,
        "start_time": "2023-04-15T12:28:12.123Z"
      },
      {
        "duration": 23,
        "start_time": "2023-04-15T12:29:49.384Z"
      },
      {
        "duration": 237,
        "start_time": "2023-04-15T12:33:10.603Z"
      },
      {
        "duration": 198,
        "start_time": "2023-04-15T12:33:24.643Z"
      },
      {
        "duration": 149,
        "start_time": "2023-04-15T12:34:09.024Z"
      },
      {
        "duration": 157,
        "start_time": "2023-04-15T12:38:37.202Z"
      },
      {
        "duration": 984,
        "start_time": "2023-04-15T12:39:20.613Z"
      },
      {
        "duration": 251,
        "start_time": "2023-04-15T12:43:12.003Z"
      },
      {
        "duration": 231,
        "start_time": "2023-04-15T12:43:21.443Z"
      },
      {
        "duration": 276,
        "start_time": "2023-04-15T12:43:53.963Z"
      },
      {
        "duration": 168,
        "start_time": "2023-04-15T12:44:04.163Z"
      },
      {
        "duration": 159,
        "start_time": "2023-04-15T12:44:25.603Z"
      },
      {
        "duration": 4525,
        "start_time": "2023-04-15T12:45:04.012Z"
      },
      {
        "duration": 620,
        "start_time": "2023-04-15T12:45:29.363Z"
      },
      {
        "duration": 635,
        "start_time": "2023-04-15T12:45:54.000Z"
      },
      {
        "duration": 1386,
        "start_time": "2023-04-16T04:59:04.709Z"
      },
      {
        "duration": 83,
        "start_time": "2023-04-16T04:59:07.859Z"
      },
      {
        "duration": 12,
        "start_time": "2023-04-16T04:59:09.040Z"
      },
      {
        "duration": 4,
        "start_time": "2023-04-16T04:59:09.450Z"
      },
      {
        "duration": 12,
        "start_time": "2023-04-16T04:59:09.902Z"
      },
      {
        "duration": 6,
        "start_time": "2023-04-16T04:59:10.363Z"
      },
      {
        "duration": 12,
        "start_time": "2023-04-16T04:59:10.739Z"
      },
      {
        "duration": 458,
        "start_time": "2023-04-16T04:59:11.019Z"
      },
      {
        "duration": 980,
        "start_time": "2023-04-16T04:59:12.629Z"
      },
      {
        "duration": 143,
        "start_time": "2023-04-16T04:59:13.616Z"
      },
      {
        "duration": 144,
        "start_time": "2023-04-16T04:59:46.570Z"
      },
      {
        "duration": 175,
        "start_time": "2023-04-16T05:02:41.124Z"
      },
      {
        "duration": 222,
        "start_time": "2023-04-16T05:03:52.679Z"
      },
      {
        "duration": 215,
        "start_time": "2023-04-16T05:04:02.360Z"
      },
      {
        "duration": 182,
        "start_time": "2023-04-16T05:05:16.926Z"
      },
      {
        "duration": 239,
        "start_time": "2023-04-16T05:05:38.128Z"
      },
      {
        "duration": 191,
        "start_time": "2023-04-16T05:05:52.149Z"
      },
      {
        "duration": 198,
        "start_time": "2023-04-16T05:07:05.641Z"
      },
      {
        "duration": 205,
        "start_time": "2023-04-16T05:07:35.029Z"
      },
      {
        "duration": 183,
        "start_time": "2023-04-16T05:07:45.871Z"
      },
      {
        "duration": 235,
        "start_time": "2023-04-16T05:08:02.150Z"
      },
      {
        "duration": 200,
        "start_time": "2023-04-16T05:08:12.140Z"
      },
      {
        "duration": 210,
        "start_time": "2023-04-16T05:09:02.459Z"
      },
      {
        "duration": 188,
        "start_time": "2023-04-16T05:10:53.471Z"
      },
      {
        "duration": 699,
        "start_time": "2023-04-16T05:11:39.109Z"
      },
      {
        "duration": 5,
        "start_time": "2023-04-16T08:07:04.911Z"
      },
      {
        "duration": 26,
        "start_time": "2023-04-16T08:07:06.311Z"
      },
      {
        "duration": 15,
        "start_time": "2023-04-16T08:07:07.072Z"
      },
      {
        "duration": 5,
        "start_time": "2023-04-16T08:07:07.701Z"
      },
      {
        "duration": 12,
        "start_time": "2023-04-16T08:07:08.261Z"
      },
      {
        "duration": 13,
        "start_time": "2023-04-16T08:07:08.741Z"
      },
      {
        "duration": 13,
        "start_time": "2023-04-16T08:07:09.260Z"
      },
      {
        "duration": 446,
        "start_time": "2023-04-16T08:07:09.631Z"
      },
      {
        "duration": 994,
        "start_time": "2023-04-16T08:07:10.166Z"
      },
      {
        "duration": 166,
        "start_time": "2023-04-16T08:07:11.163Z"
      },
      {
        "duration": 318,
        "start_time": "2023-04-16T08:07:11.331Z"
      },
      {
        "duration": 216,
        "start_time": "2023-04-16T08:07:11.652Z"
      },
      {
        "duration": 6,
        "start_time": "2023-04-16T08:07:24.211Z"
      },
      {
        "duration": 3,
        "start_time": "2023-04-16T08:07:25.381Z"
      },
      {
        "duration": 12,
        "start_time": "2023-04-16T08:07:26.049Z"
      },
      {
        "duration": 116,
        "start_time": "2023-04-16T08:07:27.572Z"
      },
      {
        "duration": 4,
        "start_time": "2023-04-16T08:07:29.100Z"
      },
      {
        "duration": 8,
        "start_time": "2023-04-16T08:07:29.754Z"
      },
      {
        "duration": 4,
        "start_time": "2023-04-16T08:07:32.811Z"
      },
      {
        "duration": 17,
        "start_time": "2023-04-16T08:07:33.816Z"
      },
      {
        "duration": 4,
        "start_time": "2023-04-16T08:10:07.153Z"
      },
      {
        "duration": 27,
        "start_time": "2023-04-16T08:10:07.822Z"
      },
      {
        "duration": 15,
        "start_time": "2023-04-16T08:10:08.002Z"
      },
      {
        "duration": 7,
        "start_time": "2023-04-16T08:10:08.201Z"
      },
      {
        "duration": 14,
        "start_time": "2023-04-16T08:10:08.381Z"
      },
      {
        "duration": 11,
        "start_time": "2023-04-16T08:10:09.070Z"
      },
      {
        "duration": 14,
        "start_time": "2023-04-16T08:10:09.627Z"
      },
      {
        "duration": 548,
        "start_time": "2023-04-16T08:10:09.644Z"
      },
      {
        "duration": 1335,
        "start_time": "2023-04-16T08:10:10.194Z"
      },
      {
        "duration": 261,
        "start_time": "2023-04-16T08:10:11.533Z"
      },
      {
        "duration": 435,
        "start_time": "2023-04-16T08:10:11.797Z"
      },
      {
        "duration": 327,
        "start_time": "2023-04-16T08:10:12.235Z"
      },
      {
        "duration": 5,
        "start_time": "2023-04-16T08:10:18.911Z"
      },
      {
        "duration": 4,
        "start_time": "2023-04-16T08:10:19.361Z"
      },
      {
        "duration": 9,
        "start_time": "2023-04-16T08:10:19.957Z"
      },
      {
        "duration": 104,
        "start_time": "2023-04-16T08:10:20.491Z"
      },
      {
        "duration": 5,
        "start_time": "2023-04-16T08:10:20.711Z"
      },
      {
        "duration": 31,
        "start_time": "2023-04-16T08:10:21.321Z"
      },
      {
        "duration": 5,
        "start_time": "2023-04-16T08:10:22.772Z"
      },
      {
        "duration": 18,
        "start_time": "2023-04-16T08:10:23.950Z"
      },
      {
        "duration": 13,
        "start_time": "2023-04-16T08:10:40.891Z"
      },
      {
        "duration": 11,
        "start_time": "2023-04-16T08:10:50.339Z"
      },
      {
        "duration": 15,
        "start_time": "2023-04-16T08:11:43.580Z"
      },
      {
        "duration": 5,
        "start_time": "2023-04-16T08:12:24.811Z"
      },
      {
        "duration": 13,
        "start_time": "2023-04-16T08:12:26.411Z"
      },
      {
        "duration": 14,
        "start_time": "2023-04-16T08:12:32.171Z"
      },
      {
        "duration": 5,
        "start_time": "2023-04-16T08:14:31.574Z"
      },
      {
        "duration": 21,
        "start_time": "2023-04-16T08:14:32.786Z"
      },
      {
        "duration": 23,
        "start_time": "2023-04-16T08:19:26.341Z"
      },
      {
        "duration": 5,
        "start_time": "2023-04-16T08:21:06.973Z"
      },
      {
        "duration": 21,
        "start_time": "2023-04-16T08:21:07.705Z"
      },
      {
        "duration": 5,
        "start_time": "2023-04-16T08:21:22.330Z"
      },
      {
        "duration": 4,
        "start_time": "2023-04-16T08:21:22.797Z"
      },
      {
        "duration": 5,
        "start_time": "2023-04-16T08:21:23.261Z"
      },
      {
        "duration": 23,
        "start_time": "2023-04-16T08:21:24.183Z"
      },
      {
        "duration": 4,
        "start_time": "2023-04-16T08:21:24.601Z"
      },
      {
        "duration": 9,
        "start_time": "2023-04-16T08:21:25.022Z"
      },
      {
        "duration": 5,
        "start_time": "2023-04-16T08:21:27.758Z"
      },
      {
        "duration": 20,
        "start_time": "2023-04-16T08:21:28.714Z"
      },
      {
        "duration": 16,
        "start_time": "2023-04-16T08:23:25.612Z"
      },
      {
        "duration": 361,
        "start_time": "2023-04-16T08:23:49.104Z"
      },
      {
        "duration": 25,
        "start_time": "2023-04-16T08:23:49.891Z"
      },
      {
        "duration": 3,
        "start_time": "2023-04-16T08:24:16.621Z"
      },
      {
        "duration": 25,
        "start_time": "2023-04-16T08:24:17.984Z"
      },
      {
        "duration": 16,
        "start_time": "2023-04-16T08:24:18.195Z"
      },
      {
        "duration": 6,
        "start_time": "2023-04-16T08:24:18.373Z"
      },
      {
        "duration": 13,
        "start_time": "2023-04-16T08:24:18.538Z"
      },
      {
        "duration": 12,
        "start_time": "2023-04-16T08:24:18.992Z"
      },
      {
        "duration": 15,
        "start_time": "2023-04-16T08:24:19.232Z"
      },
      {
        "duration": 558,
        "start_time": "2023-04-16T08:24:19.461Z"
      },
      {
        "duration": 1443,
        "start_time": "2023-04-16T08:24:20.022Z"
      },
      {
        "duration": 227,
        "start_time": "2023-04-16T08:24:21.468Z"
      },
      {
        "duration": 308,
        "start_time": "2023-04-16T08:24:21.698Z"
      },
      {
        "duration": 392,
        "start_time": "2023-04-16T08:24:22.008Z"
      },
      {
        "duration": 5,
        "start_time": "2023-04-16T08:24:31.481Z"
      },
      {
        "duration": 3,
        "start_time": "2023-04-16T08:24:31.752Z"
      },
      {
        "duration": 4,
        "start_time": "2023-04-16T08:24:32.528Z"
      },
      {
        "duration": 63,
        "start_time": "2023-04-16T08:24:33.443Z"
      },
      {
        "duration": 4,
        "start_time": "2023-04-16T08:24:33.747Z"
      },
      {
        "duration": 70,
        "start_time": "2023-04-16T08:24:34.118Z"
      },
      {
        "duration": 11,
        "start_time": "2023-04-16T08:24:36.662Z"
      },
      {
        "duration": 6,
        "start_time": "2023-04-16T08:24:51.660Z"
      },
      {
        "duration": 8,
        "start_time": "2023-04-16T08:29:22.851Z"
      },
      {
        "duration": 7,
        "start_time": "2023-04-16T08:29:26.502Z"
      },
      {
        "duration": 37,
        "start_time": "2023-04-16T08:30:23.922Z"
      },
      {
        "duration": 13,
        "start_time": "2023-04-16T09:04:48.821Z"
      },
      {
        "duration": 5,
        "start_time": "2023-04-16T09:04:53.250Z"
      },
      {
        "duration": 34,
        "start_time": "2023-04-16T09:04:53.781Z"
      },
      {
        "duration": 13,
        "start_time": "2023-04-16T09:04:55.240Z"
      },
      {
        "duration": 3,
        "start_time": "2023-04-16T09:14:03.871Z"
      },
      {
        "duration": 4,
        "start_time": "2023-04-16T09:14:29.651Z"
      },
      {
        "duration": 10,
        "start_time": "2023-04-16T09:15:01.830Z"
      },
      {
        "duration": 8,
        "start_time": "2023-04-16T09:15:05.151Z"
      },
      {
        "duration": 8,
        "start_time": "2023-04-16T09:15:45.922Z"
      },
      {
        "duration": 11,
        "start_time": "2023-04-16T09:16:08.732Z"
      },
      {
        "duration": 455,
        "start_time": "2023-04-16T09:16:47.069Z"
      },
      {
        "duration": 990,
        "start_time": "2023-04-16T09:17:39.421Z"
      },
      {
        "duration": 169,
        "start_time": "2023-04-16T09:18:26.582Z"
      },
      {
        "duration": 226,
        "start_time": "2023-04-16T09:18:56.003Z"
      },
      {
        "duration": 264,
        "start_time": "2023-04-16T09:19:40.939Z"
      },
      {
        "duration": 9,
        "start_time": "2023-04-16T09:24:37.300Z"
      },
      {
        "duration": 12,
        "start_time": "2023-04-16T09:26:50.846Z"
      },
      {
        "duration": 5,
        "start_time": "2023-04-16T09:58:35.315Z"
      },
      {
        "duration": 4,
        "start_time": "2023-04-16T09:58:35.852Z"
      },
      {
        "duration": 4,
        "start_time": "2023-04-16T09:59:26.832Z"
      },
      {
        "duration": 4,
        "start_time": "2023-04-16T09:59:27.340Z"
      },
      {
        "duration": 6,
        "start_time": "2023-04-16T10:00:21.915Z"
      },
      {
        "duration": 13,
        "start_time": "2023-04-16T10:04:26.448Z"
      },
      {
        "duration": 3,
        "start_time": "2023-04-16T10:04:27.853Z"
      },
      {
        "duration": 4,
        "start_time": "2023-04-16T10:05:48.021Z"
      },
      {
        "duration": 36,
        "start_time": "2023-04-16T10:05:48.461Z"
      },
      {
        "duration": 8,
        "start_time": "2023-04-16T10:09:51.811Z"
      },
      {
        "duration": 6,
        "start_time": "2023-04-16T10:10:03.520Z"
      },
      {
        "duration": 7,
        "start_time": "2023-04-16T10:30:30.317Z"
      },
      {
        "duration": 7,
        "start_time": "2023-04-16T10:30:38.414Z"
      },
      {
        "duration": 25,
        "start_time": "2023-04-16T10:31:14.115Z"
      },
      {
        "duration": 13,
        "start_time": "2023-04-16T10:32:16.086Z"
      },
      {
        "duration": 19,
        "start_time": "2023-04-16T10:32:22.632Z"
      },
      {
        "duration": 97,
        "start_time": "2023-04-16T10:33:08.219Z"
      },
      {
        "duration": 32,
        "start_time": "2023-04-16T10:34:47.152Z"
      },
      {
        "duration": 15,
        "start_time": "2023-04-16T10:36:27.913Z"
      },
      {
        "duration": 55,
        "start_time": "2023-04-16T10:36:41.441Z"
      },
      {
        "duration": 80,
        "start_time": "2023-04-16T10:36:42.230Z"
      },
      {
        "duration": 17,
        "start_time": "2023-04-16T10:36:42.883Z"
      },
      {
        "duration": 27,
        "start_time": "2023-04-16T10:36:50.508Z"
      },
      {
        "duration": 17,
        "start_time": "2023-04-16T10:37:46.717Z"
      },
      {
        "duration": 73,
        "start_time": "2023-04-16T10:37:47.725Z"
      },
      {
        "duration": 94,
        "start_time": "2023-04-16T10:37:52.226Z"
      },
      {
        "duration": 16,
        "start_time": "2023-04-16T10:38:34.725Z"
      },
      {
        "duration": 22,
        "start_time": "2023-04-16T10:38:57.149Z"
      },
      {
        "duration": 25,
        "start_time": "2023-04-16T10:39:16.010Z"
      },
      {
        "duration": 55,
        "start_time": "2023-04-16T10:39:57.750Z"
      },
      {
        "duration": 141,
        "start_time": "2023-04-16T10:40:10.284Z"
      },
      {
        "duration": 63,
        "start_time": "2023-04-16T10:44:59.231Z"
      },
      {
        "duration": 84,
        "start_time": "2023-04-16T10:45:05.616Z"
      },
      {
        "duration": 20,
        "start_time": "2023-04-16T10:45:25.932Z"
      },
      {
        "duration": 54,
        "start_time": "2023-04-16T10:45:43.753Z"
      },
      {
        "duration": 3,
        "start_time": "2023-04-16T10:46:02.262Z"
      },
      {
        "duration": 30,
        "start_time": "2023-04-16T10:46:03.002Z"
      },
      {
        "duration": 14,
        "start_time": "2023-04-16T10:46:04.142Z"
      },
      {
        "duration": 7,
        "start_time": "2023-04-16T10:46:05.632Z"
      },
      {
        "duration": 10,
        "start_time": "2023-04-16T10:46:07.518Z"
      },
      {
        "duration": 9,
        "start_time": "2023-04-16T10:46:08.341Z"
      },
      {
        "duration": 24,
        "start_time": "2023-04-16T10:46:10.585Z"
      },
      {
        "duration": 517,
        "start_time": "2023-04-16T10:46:11.354Z"
      },
      {
        "duration": 1308,
        "start_time": "2023-04-16T10:46:14.352Z"
      },
      {
        "duration": 202,
        "start_time": "2023-04-16T10:46:15.662Z"
      },
      {
        "duration": 370,
        "start_time": "2023-04-16T10:46:15.900Z"
      },
      {
        "duration": 249,
        "start_time": "2023-04-16T10:46:16.616Z"
      },
      {
        "duration": 14,
        "start_time": "2023-04-16T10:46:42.913Z"
      },
      {
        "duration": 3,
        "start_time": "2023-04-16T10:46:43.530Z"
      },
      {
        "duration": 11,
        "start_time": "2023-04-16T10:46:44.314Z"
      },
      {
        "duration": 15,
        "start_time": "2023-04-16T10:46:46.622Z"
      },
      {
        "duration": 3,
        "start_time": "2023-04-16T10:46:49.852Z"
      },
      {
        "duration": 13,
        "start_time": "2023-04-16T10:46:49.933Z"
      },
      {
        "duration": 18,
        "start_time": "2023-04-16T10:46:52.297Z"
      },
      {
        "duration": 3,
        "start_time": "2023-04-16T10:46:52.747Z"
      },
      {
        "duration": 13,
        "start_time": "2023-04-16T10:46:53.715Z"
      },
      {
        "duration": 12,
        "start_time": "2023-04-16T10:46:54.585Z"
      },
      {
        "duration": 11,
        "start_time": "2023-04-16T10:47:08.613Z"
      },
      {
        "duration": 13,
        "start_time": "2023-04-16T10:47:10.416Z"
      },
      {
        "duration": 44,
        "start_time": "2023-04-16T10:48:44.577Z"
      },
      {
        "duration": 17,
        "start_time": "2023-04-16T10:48:52.736Z"
      },
      {
        "duration": 50,
        "start_time": "2023-04-16T10:49:15.350Z"
      },
      {
        "duration": 14,
        "start_time": "2023-04-16T10:49:20.925Z"
      },
      {
        "duration": 1383,
        "start_time": "2023-04-16T14:05:08.215Z"
      },
      {
        "duration": 23,
        "start_time": "2023-04-16T14:05:09.599Z"
      },
      {
        "duration": 10,
        "start_time": "2023-04-16T14:22:07.646Z"
      },
      {
        "duration": 5,
        "start_time": "2023-04-16T14:22:08.171Z"
      },
      {
        "duration": 12,
        "start_time": "2023-04-16T14:22:08.976Z"
      },
      {
        "duration": 7,
        "start_time": "2023-04-16T14:22:09.167Z"
      },
      {
        "duration": 11,
        "start_time": "2023-04-16T14:22:11.158Z"
      },
      {
        "duration": 490,
        "start_time": "2023-04-16T14:22:12.233Z"
      },
      {
        "duration": 622,
        "start_time": "2023-04-16T14:24:08.857Z"
      },
      {
        "duration": 171,
        "start_time": "2023-04-16T14:24:09.480Z"
      },
      {
        "duration": 411,
        "start_time": "2023-04-16T14:24:09.652Z"
      },
      {
        "duration": 308,
        "start_time": "2023-04-16T14:24:10.064Z"
      },
      {
        "duration": 4,
        "start_time": "2023-04-16T14:25:57.123Z"
      },
      {
        "duration": 3,
        "start_time": "2023-04-16T14:25:57.467Z"
      },
      {
        "duration": 2,
        "start_time": "2023-04-16T14:25:57.670Z"
      },
      {
        "duration": 9,
        "start_time": "2023-04-16T14:26:31.531Z"
      },
      {
        "duration": 3,
        "start_time": "2023-04-16T14:26:32.050Z"
      },
      {
        "duration": 7,
        "start_time": "2023-04-16T14:26:32.739Z"
      },
      {
        "duration": 4,
        "start_time": "2023-04-16T14:26:33.285Z"
      },
      {
        "duration": 10,
        "start_time": "2023-04-16T14:26:38.754Z"
      },
      {
        "duration": 11,
        "start_time": "2023-04-16T14:26:39.047Z"
      },
      {
        "duration": 2358,
        "start_time": "2023-04-17T06:41:28.605Z"
      },
      {
        "duration": 108,
        "start_time": "2023-04-17T06:41:30.965Z"
      },
      {
        "duration": 19,
        "start_time": "2023-04-17T06:41:31.075Z"
      },
      {
        "duration": 61,
        "start_time": "2023-04-17T06:41:31.096Z"
      },
      {
        "duration": 73,
        "start_time": "2023-04-17T06:41:31.159Z"
      },
      {
        "duration": 39,
        "start_time": "2023-04-17T06:41:31.234Z"
      },
      {
        "duration": 10,
        "start_time": "2023-04-17T06:41:36.761Z"
      },
      {
        "duration": 462,
        "start_time": "2023-04-17T06:41:37.009Z"
      },
      {
        "duration": 1196,
        "start_time": "2023-04-17T06:43:17.923Z"
      },
      {
        "duration": 165,
        "start_time": "2023-04-17T06:43:19.127Z"
      },
      {
        "duration": 245,
        "start_time": "2023-04-17T06:43:19.293Z"
      },
      {
        "duration": 331,
        "start_time": "2023-04-17T06:43:19.540Z"
      },
      {
        "duration": 5,
        "start_time": "2023-04-17T07:03:12.452Z"
      },
      {
        "duration": 3,
        "start_time": "2023-04-17T07:03:12.652Z"
      },
      {
        "duration": 3,
        "start_time": "2023-04-17T07:03:13.244Z"
      },
      {
        "duration": 23,
        "start_time": "2023-04-17T07:03:19.028Z"
      },
      {
        "duration": 10,
        "start_time": "2023-04-17T07:03:19.486Z"
      },
      {
        "duration": 19,
        "start_time": "2023-04-17T07:03:19.734Z"
      },
      {
        "duration": 4,
        "start_time": "2023-04-17T07:03:20.135Z"
      },
      {
        "duration": 12,
        "start_time": "2023-04-17T07:03:23.413Z"
      },
      {
        "duration": 12,
        "start_time": "2023-04-17T07:03:24.132Z"
      },
      {
        "duration": 4,
        "start_time": "2023-04-17T07:28:32.108Z"
      },
      {
        "duration": 28,
        "start_time": "2023-04-17T07:28:32.315Z"
      },
      {
        "duration": 10,
        "start_time": "2023-04-17T07:28:33.236Z"
      },
      {
        "duration": 6,
        "start_time": "2023-04-17T07:28:34.327Z"
      },
      {
        "duration": 12,
        "start_time": "2023-04-17T07:28:34.912Z"
      },
      {
        "duration": 10,
        "start_time": "2023-04-17T07:28:35.237Z"
      },
      {
        "duration": 11,
        "start_time": "2023-04-17T07:28:36.957Z"
      },
      {
        "duration": 497,
        "start_time": "2023-04-17T07:28:37.057Z"
      },
      {
        "duration": 10,
        "start_time": "2023-04-17T07:33:53.231Z"
      },
      {
        "duration": 14,
        "start_time": "2023-04-17T07:34:11.227Z"
      },
      {
        "duration": 366,
        "start_time": "2023-04-17T07:36:20.008Z"
      },
      {
        "duration": 4,
        "start_time": "2023-04-17T07:38:13.547Z"
      },
      {
        "duration": 32,
        "start_time": "2023-04-17T07:38:14.111Z"
      },
      {
        "duration": 15,
        "start_time": "2023-04-17T07:38:14.846Z"
      },
      {
        "duration": 10,
        "start_time": "2023-04-17T07:38:15.320Z"
      },
      {
        "duration": 9,
        "start_time": "2023-04-17T07:38:16.014Z"
      },
      {
        "duration": 9,
        "start_time": "2023-04-17T07:38:16.236Z"
      },
      {
        "duration": 10,
        "start_time": "2023-04-17T07:38:18.129Z"
      },
      {
        "duration": 347,
        "start_time": "2023-04-17T07:38:19.226Z"
      },
      {
        "duration": 1129,
        "start_time": "2023-04-17T07:38:23.367Z"
      },
      {
        "duration": 190,
        "start_time": "2023-04-17T07:38:24.498Z"
      },
      {
        "duration": 348,
        "start_time": "2023-04-17T07:38:24.690Z"
      },
      {
        "duration": 276,
        "start_time": "2023-04-17T07:38:25.042Z"
      },
      {
        "duration": 23,
        "start_time": "2023-04-17T07:38:43.980Z"
      },
      {
        "duration": 3,
        "start_time": "2023-04-17T07:38:44.253Z"
      },
      {
        "duration": 4,
        "start_time": "2023-04-17T07:38:44.547Z"
      },
      {
        "duration": 16,
        "start_time": "2023-04-17T07:38:45.707Z"
      },
      {
        "duration": 3,
        "start_time": "2023-04-17T07:38:45.977Z"
      },
      {
        "duration": 6,
        "start_time": "2023-04-17T07:38:46.311Z"
      },
      {
        "duration": 7,
        "start_time": "2023-04-17T07:38:46.837Z"
      },
      {
        "duration": 11,
        "start_time": "2023-04-17T07:38:54.338Z"
      },
      {
        "duration": 8,
        "start_time": "2023-04-17T07:38:54.528Z"
      }
    ],
    "toc": {
      "base_numbering": 1,
      "nav_menu": {},
      "number_sections": true,
      "sideBar": true,
      "skip_h1_title": true,
      "title_cell": "Содержание",
      "title_sidebar": "Contents",
      "toc_cell": true,
      "toc_position": {},
      "toc_section_display": true,
      "toc_window_display": true
    }
  },
  "nbformat_minor": 4,
  "nbformat": 4,
  "cells": [
    {
      "cell_type": "markdown",
      "source": "## **Проект. Защита персональных данных клиентов страховой компании**",
      "metadata": {}
    },
    {
      "cell_type": "markdown",
      "source": "### Цель проекта: \nЗащита данных клиентов страховой компании. Разработать такой метод преобразования данных, чтобы по ним было сложно восстановить персональную информацию. Нужно защитить данные, чтобы при преобразовании качество моделей машинного обучения не ухудшилось.",
      "metadata": {}
    },
    {
      "cell_type": "markdown",
      "source": "### Описание данных.\n- признаки: пол, возраст и зарплата застрахованного, количество членов его семьи.\n- целевой признак: количество страховых выплат клиенту за последние 5 лет.\n",
      "metadata": {}
    },
    {
      "cell_type": "markdown",
      "source": "### План работы:\n1. Анализ данных.\n2. Умножение матриц.\n3. Алгоритм преобразования.\n4. Проверка алгоритма.\n5. Вывод.",
      "metadata": {}
    },
    {
      "cell_type": "markdown",
      "source": "### **Вывод:**\nАлгоритм был запрограммирован на обучение линейной регрессии с применениме матричных операций. \n",
      "metadata": {}
    },
    {
      "cell_type": "markdown",
      "source": "## 1. Анализ данных.",
      "metadata": {}
    },
    {
      "cell_type": "code",
      "source": "import pandas as pd\nimport numpy as np\nimport matplotlib as mpl\nimport matplotlib.pyplot as plt\nimport seaborn as sns\nfrom sklearn.metrics import r2_score\nimport warnings; warnings.filterwarnings(action='once')",
      "metadata": {},
      "outputs": [],
      "execution_count": 33
    },
    {
      "cell_type": "code",
      "source": "df = pd.read_csv('/dat/insur.csv')",
      "metadata": {},
      "outputs": [],
      "execution_count": 34
    },
    {
      "cell_type": "code",
      "source": "df.info()",
      "metadata": {},
      "outputs": [
        {
          "name": "stdout",
          "output_type": "stream",
          "text": [
            "<class 'pandas.core.frame.DataFrame'>\n",
            "RangeIndex: 5000 entries, 0 to 4999\n",
            "Data columns (total 5 columns):\n",
            " #   Column             Non-Null Count  Dtype  \n",
            "---  ------             --------------  -----  \n",
            " 0   Пол                5000 non-null   int64  \n",
            " 1   Возраст            5000 non-null   float64\n",
            " 2   Зарплата           5000 non-null   float64\n",
            " 3   Члены семьи        5000 non-null   int64  \n",
            " 4   Страховые выплаты  5000 non-null   int64  \n",
            "dtypes: float64(2), int64(3)\n",
            "memory usage: 195.4 KB\n"
          ]
        }
      ],
      "execution_count": 35
    },
    {
      "cell_type": "markdown",
      "source": "Датасет имеет 5 столбцов, где указаны признаки клиентов страховой компании: пол, возраст, зарплата, челны семьи и наличие страховых выплат клиенту за последние 5 лет. 5000 строк в таблице. Основной тип данных: цельночисловой int.\n    У столбцов Зарплата и Возраст тип данных float64. В них указаны целые числа, поэтому тип данных будет изменен на int64.",
      "metadata": {}
    },
    {
      "cell_type": "code",
      "source": "df['Возраст'] = df['Возраст'].astype('int64')\nprint(df['Возраст'].dtype)\ndf['Зарплата'] = df['Зарплата'].astype('int64')\nprint(df['Зарплата'].dtype)",
      "metadata": {},
      "outputs": [
        {
          "name": "stdout",
          "output_type": "stream",
          "text": [
            "int64\n",
            "int64\n"
          ]
        }
      ],
      "execution_count": 36
    },
    {
      "cell_type": "markdown",
      "source": "Анализируя полученные данные в таблице, информация по столбцам пол и страховые выплаты закодирована числами 0 и 1. Остальные столбцы имеют точную информацию по клиенту, она не закодирована.",
      "metadata": {}
    },
    {
      "cell_type": "code",
      "source": "df.head(10)",
      "metadata": {},
      "outputs": [
        {
          "data": {
            "text/html": [
              "<div>\n",
              "<style scoped>\n",
              "    .dataframe tbody tr th:only-of-type {\n",
              "        vertical-align: middle;\n",
              "    }\n",
              "\n",
              "    .dataframe tbody tr th {\n",
              "        vertical-align: top;\n",
              "    }\n",
              "\n",
              "    .dataframe thead th {\n",
              "        text-align: right;\n",
              "    }\n",
              "</style>\n",
              "<table border=\"1\" class=\"dataframe\">\n",
              "  <thead>\n",
              "    <tr style=\"text-align: right;\">\n",
              "      <th></th>\n",
              "      <th>Пол</th>\n",
              "      <th>Возраст</th>\n",
              "      <th>Зарплата</th>\n",
              "      <th>Члены семьи</th>\n",
              "      <th>Страховые выплаты</th>\n",
              "    </tr>\n",
              "  </thead>\n",
              "  <tbody>\n",
              "    <tr>\n",
              "      <th>0</th>\n",
              "      <td>1</td>\n",
              "      <td>41</td>\n",
              "      <td>49600</td>\n",
              "      <td>1</td>\n",
              "      <td>0</td>\n",
              "    </tr>\n",
              "    <tr>\n",
              "      <th>1</th>\n",
              "      <td>0</td>\n",
              "      <td>46</td>\n",
              "      <td>38000</td>\n",
              "      <td>1</td>\n",
              "      <td>1</td>\n",
              "    </tr>\n",
              "    <tr>\n",
              "      <th>2</th>\n",
              "      <td>0</td>\n",
              "      <td>29</td>\n",
              "      <td>21000</td>\n",
              "      <td>0</td>\n",
              "      <td>0</td>\n",
              "    </tr>\n",
              "    <tr>\n",
              "      <th>3</th>\n",
              "      <td>0</td>\n",
              "      <td>21</td>\n",
              "      <td>41700</td>\n",
              "      <td>2</td>\n",
              "      <td>0</td>\n",
              "    </tr>\n",
              "    <tr>\n",
              "      <th>4</th>\n",
              "      <td>1</td>\n",
              "      <td>28</td>\n",
              "      <td>26100</td>\n",
              "      <td>0</td>\n",
              "      <td>0</td>\n",
              "    </tr>\n",
              "    <tr>\n",
              "      <th>5</th>\n",
              "      <td>1</td>\n",
              "      <td>43</td>\n",
              "      <td>41000</td>\n",
              "      <td>2</td>\n",
              "      <td>1</td>\n",
              "    </tr>\n",
              "    <tr>\n",
              "      <th>6</th>\n",
              "      <td>1</td>\n",
              "      <td>39</td>\n",
              "      <td>39700</td>\n",
              "      <td>2</td>\n",
              "      <td>0</td>\n",
              "    </tr>\n",
              "    <tr>\n",
              "      <th>7</th>\n",
              "      <td>1</td>\n",
              "      <td>25</td>\n",
              "      <td>38600</td>\n",
              "      <td>4</td>\n",
              "      <td>0</td>\n",
              "    </tr>\n",
              "    <tr>\n",
              "      <th>8</th>\n",
              "      <td>1</td>\n",
              "      <td>36</td>\n",
              "      <td>49700</td>\n",
              "      <td>1</td>\n",
              "      <td>0</td>\n",
              "    </tr>\n",
              "    <tr>\n",
              "      <th>9</th>\n",
              "      <td>1</td>\n",
              "      <td>32</td>\n",
              "      <td>51700</td>\n",
              "      <td>1</td>\n",
              "      <td>0</td>\n",
              "    </tr>\n",
              "  </tbody>\n",
              "</table>\n",
              "</div>"
            ],
            "text/plain": [
              "   Пол  Возраст  Зарплата  Члены семьи  Страховые выплаты\n",
              "0    1       41     49600            1                  0\n",
              "1    0       46     38000            1                  1\n",
              "2    0       29     21000            0                  0\n",
              "3    0       21     41700            2                  0\n",
              "4    1       28     26100            0                  0\n",
              "5    1       43     41000            2                  1\n",
              "6    1       39     39700            2                  0\n",
              "7    1       25     38600            4                  0\n",
              "8    1       36     49700            1                  0\n",
              "9    1       32     51700            1                  0"
            ]
          },
          "execution_count": 37,
          "metadata": {},
          "output_type": "execute_result"
        }
      ],
      "execution_count": 37
    },
    {
      "cell_type": "code",
      "source": "print('Размер выборки:', df.shape)\nprint('Наличие пропусков:', df.isna().sum())\nprint('Наличие явных дубликатов:', df.duplicated().sum())",
      "metadata": {},
      "outputs": [
        {
          "name": "stdout",
          "output_type": "stream",
          "text": [
            "Размер выборки: (5000, 5)\n",
            "Наличие пропусков: Пол                  0\n",
            "Возраст              0\n",
            "Зарплата             0\n",
            "Члены семьи          0\n",
            "Страховые выплаты    0\n",
            "dtype: int64\n",
            "Наличие явных дубликатов: 153\n"
          ]
        }
      ],
      "execution_count": 38
    },
    {
      "cell_type": "markdown",
      "source": "Проверка на наличие пропусков и явных дубликатов показывает, что пропусков нет, явные дубликаты присутствуют. При этом нельзя точно сказать, что это именно дублирующие значения информации о клиентах. Возможно наличие дублей связано с тем, что по разным клиентам информация идентична. При этом среди 5000 строк дубликатов 153, это незначительно ,чтобы исказить данные при обучении. Поэтому дубликаты не удалены.",
      "metadata": {}
    },
    {
      "cell_type": "markdown",
      "source": "Проверим корреляцию между признаками данных. ",
      "metadata": {}
    },
    {
      "cell_type": "code",
      "source": "df[df.columns[1:]].corr()",
      "metadata": {},
      "outputs": [
        {
          "data": {
            "text/html": [
              "<div>\n",
              "<style scoped>\n",
              "    .dataframe tbody tr th:only-of-type {\n",
              "        vertical-align: middle;\n",
              "    }\n",
              "\n",
              "    .dataframe tbody tr th {\n",
              "        vertical-align: top;\n",
              "    }\n",
              "\n",
              "    .dataframe thead th {\n",
              "        text-align: right;\n",
              "    }\n",
              "</style>\n",
              "<table border=\"1\" class=\"dataframe\">\n",
              "  <thead>\n",
              "    <tr style=\"text-align: right;\">\n",
              "      <th></th>\n",
              "      <th>Возраст</th>\n",
              "      <th>Зарплата</th>\n",
              "      <th>Члены семьи</th>\n",
              "      <th>Страховые выплаты</th>\n",
              "    </tr>\n",
              "  </thead>\n",
              "  <tbody>\n",
              "    <tr>\n",
              "      <th>Возраст</th>\n",
              "      <td>1.000000</td>\n",
              "      <td>-0.019093</td>\n",
              "      <td>-0.006692</td>\n",
              "      <td>0.651030</td>\n",
              "    </tr>\n",
              "    <tr>\n",
              "      <th>Зарплата</th>\n",
              "      <td>-0.019093</td>\n",
              "      <td>1.000000</td>\n",
              "      <td>-0.030296</td>\n",
              "      <td>-0.014963</td>\n",
              "    </tr>\n",
              "    <tr>\n",
              "      <th>Члены семьи</th>\n",
              "      <td>-0.006692</td>\n",
              "      <td>-0.030296</td>\n",
              "      <td>1.000000</td>\n",
              "      <td>-0.036290</td>\n",
              "    </tr>\n",
              "    <tr>\n",
              "      <th>Страховые выплаты</th>\n",
              "      <td>0.651030</td>\n",
              "      <td>-0.014963</td>\n",
              "      <td>-0.036290</td>\n",
              "      <td>1.000000</td>\n",
              "    </tr>\n",
              "  </tbody>\n",
              "</table>\n",
              "</div>"
            ],
            "text/plain": [
              "                    Возраст  Зарплата  Члены семьи  Страховые выплаты\n",
              "Возраст            1.000000 -0.019093    -0.006692           0.651030\n",
              "Зарплата          -0.019093  1.000000    -0.030296          -0.014963\n",
              "Члены семьи       -0.006692 -0.030296     1.000000          -0.036290\n",
              "Страховые выплаты  0.651030 -0.014963    -0.036290           1.000000"
            ]
          },
          "execution_count": 39,
          "metadata": {},
          "output_type": "execute_result"
        }
      ],
      "execution_count": 39
    },
    {
      "cell_type": "code",
      "source": "plt.figure(figsize=(12,10), dpi= 80)\nsns.heatmap(df[df.columns[1:]].corr(), annot=True)\nplt.title('Корреляция между признаками', fontsize=22)\nplt.xticks(fontsize=12)\nplt.yticks(fontsize=12)\nplt.show()",
      "metadata": {},
      "outputs": [
        {
          "data": {
            "image/png": "[encoded data removed]",
            "text/plain": [
              "<Figure size 960x800 with 2 Axes>"
            ]
          },
          "metadata": {
            "needs_background": "light"
          },
          "output_type": "display_data"
        }
      ],
      "execution_count": 40
    },
    {
      "cell_type": "markdown",
      "source": "Таблица корреляции и тепловая карта явно показывают, что в большинстве случаев корреляция между признаками отсутствует. Наблюдается средний уровень корреляции 0.65 между возрастом и наличием страховых выплат.",
      "metadata": {}
    },
    {
      "cell_type": "markdown",
      "source": "Визуальный анализ распределения данных в датасете.",
      "metadata": {}
    },
    {
      "cell_type": "code",
      "source": "df_age = df.groupby(['Возраст']).sum()\ndf_age.plot(kind='pie', y='Страховые выплаты', subplots=True, autopct='%1.2f%%', figsize=(15, 15))\nplt.title('Количество страховых выплат взависимости от возраста')\nplt.ylabel('Возраст')\nplt.show()",
      "metadata": {},
      "outputs": [
        {
          "data": {
            "image/png": "[encoded data removed]",
            "text/plain": [
              "<Figure size 1080x1080 with 1 Axes>"
            ]
          },
          "metadata": {},
          "output_type": "display_data"
        }
      ],
      "execution_count": 41
    },
    {
      "cell_type": "code",
      "source": "df_gender = df.groupby(['Пол']).sum()\ndf_gender.plot(kind='pie', y ='Страховые выплаты', subplots=True, autopct='%1.2f%%', figsize=(8, 8))\nplt.title('Количество страховых выплат взависимости от пола')\nplt.ylabel('Пол')\nplt.show()",
      "metadata": {},
      "outputs": [
        {
          "data": {
            "image/png": "[encoded data removed]",
            "text/plain": [
              "<Figure size 576x576 with 1 Axes>"
            ]
          },
          "metadata": {},
          "output_type": "display_data"
        }
      ],
      "execution_count": 42
    },
    {
      "cell_type": "code",
      "source": "df['Зарплата'].plot(kind='hist', subplots=True, color='firebrick', linewidth=20, figsize=(17, 10))\nplt.title('Уровень зарплаты у клиентов')\nplt.xlabel('Зарплата')\nplt.ylabel('Количество клиентов')\nplt.show()",
      "metadata": {},
      "outputs": [
        {
          "data": {
            "image/png": "[encoded data removed]",
            "text/plain": [
              "<Figure size 1224x720 with 1 Axes>"
            ]
          },
          "metadata": {
            "needs_background": "light"
          },
          "output_type": "display_data"
        }
      ],
      "execution_count": 43
    },
    {
      "cell_type": "code",
      "source": "df['Члены семьи'].plot(kind='hist', subplots=True, color='green', linewidth=30, figsize=(17, 10))\nplt.title('Количество членов семьи у клиентов')\nplt.xlabel('Количество членов семьи')\nplt.ylabel('Количество клиентов')\nplt.show()",
      "metadata": {},
      "outputs": [
        {
          "data": {
            "image/png": "[encoded data removed]",
            "text/plain": [
              "<Figure size 1224x720 with 1 Axes>"
            ]
          },
          "metadata": {
            "needs_background": "light"
          },
          "output_type": "display_data"
        }
      ],
      "execution_count": 44
    },
    {
      "cell_type": "markdown",
      "source": "Анализ распределения значений признаков показал, что значения распределены равномерно. Количество выплат взависимости от возвраста равномерны, явных лидеров не наблюдается. Основной интервал страховых выплат по возрасту находится в границе от 42 до 52 лет. \n    Зависимость от пола не выявлена, так как показатели распределены в равном соотношении: 51.49% : 48.51%.\n    Уровень зарплаты в большинстве случаев находится от 30 000 до 50 000 рублей.\n    Количество членов семьи от 0 до 2 в большинстве случае. Наличие членов семей от 3 и более имеет низкий показатель.",
      "metadata": {}
    },
    {
      "cell_type": "markdown",
      "source": "Вывод.\n    Общий анализ данных показал, что информация датасета подходит для дальнейшего анализа и проверки данных. \n    Тип данных по всем столбцах скорректирован на цельночисловой.\n    Пропущенных значений нет, явные дубликаты имеются в незначительном количестве. Аномалий в данных не выявлено. Данные распределены равномерно.\n    ",
      "metadata": {}
    },
    {
      "cell_type": "markdown",
      "source": "## Умножение матриц",
      "metadata": {}
    },
    {
      "cell_type": "markdown",
      "source": " Проверка предположения: изменится ли качество линейной регрессии, если признаки умножают на обратимую матрицу?\na. Изменится. Приведите примеры матриц.\nb. Не изменится. Укажите, как связаны параметры линейной регрессии в исходной задаче и в преобразованной.\n",
      "metadata": {}
    },
    {
      "cell_type": "markdown",
      "source": "В этом задании вы можете записывать формулы в *Jupyter Notebook.*\n\nЧтобы записать формулу внутри текста, окружите её символами доллара \\\\$; если снаружи —  двойными символами \\\\$\\\\$. Эти формулы записываются на языке вёрстки *LaTeX.* \n\nДля примера мы записали формулы линейной регрессии. Можете их скопировать и отредактировать, чтобы решить задачу.\n\nРаботать в *LaTeX* необязательно.",
      "metadata": {}
    },
    {
      "cell_type": "markdown",
      "source": "Обозначения:\n\n- $X$ — матрица признаков (нулевой столбец состоит из единиц)\n\n- $y$ — вектор целевого признака\n\n- $P$ — матрица, на которую умножаются признаки\n\n- $w$ — вектор весов линейной регрессии (нулевой элемент равен сдвигу)",
      "metadata": {}
    },
    {
      "cell_type": "markdown",
      "source": "Предсказания:\n\n$$\na = Xw\n$$\n\nЗадача обучения:\n\n$$\nw = \\arg\\min_w MSE(Xw, y)\n$$\n\nФормула обучения:\n\n$$\nw = (X^T X)^{-1} X^T y\n$$",
      "metadata": {}
    },
    {
      "cell_type": "markdown",
      "source": "",
      "metadata": {}
    },
    {
      "cell_type": "markdown",
      "source": "$$\nN = XP\n$$",
      "metadata": {}
    },
    {
      "cell_type": "markdown",
      "source": "$$\na^N = Nw\n$$",
      "metadata": {}
    },
    {
      "cell_type": "markdown",
      "source": "$$\nw^N = (N^T N)^{-1} N^T y\n$$",
      "metadata": {}
    },
    {
      "cell_type": "markdown",
      "source": "$$\nw^N = ((XP)^TXP))^{-1}(XP)^T y\n$$\n$$\nw^N = ((XP)^TXP)^{-1}(XP)^T y\n$$\n$$\nw^N = (P^T(X^TX)P)^{-1})(XP)^Ty\n$$",
      "metadata": {}
    },
    {
      "cell_type": "markdown",
      "source": "$$\n(P^T)^{-1}P^T= E\n$$",
      "metadata": {}
    },
    {
      "cell_type": "markdown",
      "source": "$$\nw^N = P^{-1}(X^TX)^{-1}EX^T y\n$$",
      "metadata": {}
    },
    {
      "cell_type": "markdown",
      "source": "$$\nw^N = P^{-1}(X^TX)^{-1}X^T y\n$$",
      "metadata": {}
    },
    {
      "cell_type": "markdown",
      "source": "\nПо формуле обучения:\n$$\nw = (X^T X)^{-1} X^T y\n$$\nПолучаем формулу:",
      "metadata": {}
    },
    {
      "cell_type": "markdown",
      "source": "$$\na^N = NP^{-1}w\n$$\n$$\na^N = XPP^{-1}w\n$$\n$$\nPP^{-1} = E - единичная матрица\n$$\n$$\na^N = Xw\n$$",
      "metadata": {}
    },
    {
      "cell_type": "markdown",
      "source": "$$\na^N = Xw\n$$\n$$\na^N = a\n$$",
      "metadata": {}
    },
    {
      "cell_type": "markdown",
      "source": "Вывод.\nВ результате расчета формулы предсказания с новой матрицей доказано, что  качество линейной регрессии не изменится. \n$$\na^N = a\n$$",
      "metadata": {}
    },
    {
      "cell_type": "markdown",
      "source": "$$\na = Xw = XEw = XPP^{-1}w = (XP)P^{-1}w = (XP)w'\n$$\n\n$$\nw' = ((XP)^T XP)^{-1} (XP)^T y\n$$\n$$\nw' = (P^T (X^T X) P)^{-1} (XP)^T y\n$$\n$$\n....\n$$",
      "metadata": {}
    },
    {
      "cell_type": "markdown",
      "source": "## Алгоритм преобразования",
      "metadata": {}
    },
    {
      "cell_type": "markdown",
      "source": " **Обоснование**\nДля преобразования данных сначала выделим признаки и целевой признак датасета.",
      "metadata": {}
    },
    {
      "cell_type": "code",
      "source": "\nfeatures = df.drop(['Страховые выплаты'], axis=1)\ntarget = df['Страховые выплаты']",
      "metadata": {},
      "outputs": [],
      "execution_count": 45
    },
    {
      "cell_type": "code",
      "source": "matrix_rand = np.random.rand(4, 4)",
      "metadata": {},
      "outputs": [],
      "execution_count": 46
    },
    {
      "cell_type": "code",
      "source": "matrix_inv = np.linalg.inv(matrix_rand)",
      "metadata": {},
      "outputs": [],
      "execution_count": 47
    },
    {
      "cell_type": "markdown",
      "source": "При создании обратной матрицы ошибок нет, поэтому это говорит о том, что обратная матрица имеется.",
      "metadata": {}
    },
    {
      "cell_type": "markdown",
      "source": "Данные формулы используем для подсчета результатов модели обучения и предсказания\n$$\na = Xw\n$$\n$$\nw = (X^T X)^{-1} X^T y\n$$",
      "metadata": {}
    },
    {
      "cell_type": "code",
      "source": "w = np.linalg.inv(features.T.dot(features)).dot(features.T).dot(target)\na = features @ w",
      "metadata": {},
      "outputs": [],
      "execution_count": 48
    },
    {
      "cell_type": "code",
      "source": "features_new = features @ matrix_rand",
      "metadata": {},
      "outputs": [],
      "execution_count": 49
    },
    {
      "cell_type": "code",
      "source": "w_new = np.linalg.inv(features_new.T.dot(features_new)).dot(features_new.T).dot(target)\na_new = features_new @ w_new",
      "metadata": {},
      "outputs": [],
      "execution_count": 50
    },
    {
      "cell_type": "code",
      "source": "contrast = a_new - a \nprint(contrast.sum())",
      "metadata": {},
      "outputs": [
        {
          "name": "stdout",
          "output_type": "stream",
          "text": [
            "-1.2392218199487517e-05\n"
          ]
        }
      ],
      "execution_count": 51
    },
    {
      "cell_type": "markdown",
      "source": "Качество линейной регрессии не изменилось после преобразования данных обратимой матрицей. Разница в уровне значений менее нуля. Что доказывает, что применение обратимой матрицы не влияет на уровень успешности линейной регресии.",
      "metadata": {}
    },
    {
      "cell_type": "markdown",
      "source": "## Проверка алгоритма",
      "metadata": {}
    },
    {
      "cell_type": "code",
      "source": "class LinearRegression:\n    def fit(self, train_features, train_target):\n        X = np.concatenate((np.ones((train_features.shape[0], 1)), train_features), axis=1)\n        y = train_target\n        w = np.linalg.inv(X.T.dot(X)).dot(X.T).dot(y)\n        self.w = w[1:]\n        self.w0 = w[0]\n\n    def predict(self, test_features):\n        return test_features.dot(self.w) + self.w0\n    \nmodel = LinearRegression()\nmodel.fit(features, target)\npredictions = model.predict(features)\nprint(r2_score(target, predictions))",
      "metadata": {},
      "outputs": [
        {
          "name": "stdout",
          "output_type": "stream",
          "text": [
            "0.42494550308169177\n"
          ]
        }
      ],
      "execution_count": 52
    },
    {
      "cell_type": "code",
      "source": "class LinearRegression:\n    def fit(self, train_features, train_target):\n        X = np.concatenate((np.ones((train_features.shape[0], 1)), train_features), axis=1)\n        y = train_target\n        w = np.linalg.inv(X.T.dot(X)).dot(X.T).dot(y)\n        self.w = w[1:]\n        self.w0 = w[0]\n\n    def predict(self, test_features):\n        return test_features.dot(self.w) + self.w0\n    \nmodel = LinearRegression()\nmodel.fit(features_new, target)\npredictions = model.predict(features_new)\n\nprint(r2_score(target, predictions))",
      "metadata": {},
      "outputs": [
        {
          "name": "stdout",
          "output_type": "stream",
          "text": [
            "0.42494550308165524\n"
          ]
        }
      ],
      "execution_count": 53
    },
    {
      "cell_type": "markdown",
      "source": "Показатель R2 у исходных данных и новых данных, изменных с использованием обратной матрицы имеет разницу менее 0.00. Что доказывает, что изменение данных не влияет на качество обучения линейной регрессии.",
      "metadata": {}
    },
    {
      "cell_type": "markdown",
      "source": "Вывод.\n    Алгоритм был запрограммирован на обучение линейной регрессии с применениме матричных операций.\n    Показатели R2 имеют небольшую разницу, что доказывает, что использование обратимой матрицы с новыми данными слабо влияет на уровень обучения линейной регресии.",
      "metadata": {}
    },
    {
      "cell_type": "markdown",
      "source": "Общий вывод.\n    Была проведена исследовательская работа по анализу и проверки предположений о влиянии скорректированных данных признаков датасета на успешность обучения линейной регрессии с применением матричных операций.\n    Данные датасета имеют числовые значения. Нет пропущенных значений, явные дубликаты есть, их незначительное количество от общего числа, что не повлияет на дальнейшую работу. Все данные были приведены к цельночисловому типу данных, что облегчает работу с ними.\n    При анализе данных аномально высоких показателей найдено не было. Признаки распределены равномерно, корреляции между признаками нет, кроме связи наличия страховых выплат и возраста клиентов, средний уровень 0.65. Большинство клиентов, которые получили выплаты это люди от 42 до 52 лет. Наличие членов семьи у клиентов, в основном от 0 до 3 человек.\n    Анализ данных показал, что они подходят для дальнейшего исследования и корректировки не требуют.\n    Расчет по формуле обучения новой матрицы, полученной путем умножения признаков на обратимую матрицу доказал, что это не влияет на качество обучения линейной регресии.\n    Алгоритм преобразования данных для решения задачи с использованием формулы обучения и предсказания доказал, что качество линейной регрессии не изменяется. Разница менее 0.\n    При использовании матричных операций для обучения линейной регрессии уровень успешности обучения практически не изменился, что показал уровень параметра R2.\n    Таким образом, можно сделать вывод, что изменение исходных данных напрямую не влияет на повышение качества модели обучения линейной регресии.",
      "metadata": {}
    }
  ]
}